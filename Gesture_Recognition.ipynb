{
 "cells": [
  {
   "cell_type": "markdown",
   "metadata": {},
   "source": [
    "# Gesture Recognition\n",
    "In this group project, you are going to build a 3D Conv model that will be able to predict the 5 gestures correctly. Please import the following libraries to get started."
   ]
  },
  {
   "cell_type": "code",
   "execution_count": 1,
   "metadata": {},
   "outputs": [
    {
     "name": "stderr",
     "output_type": "stream",
     "text": [
      "Using TensorFlow backend.\n"
     ]
    }
   ],
   "source": [
    "import numpy as np\n",
    "import os\n",
    "from scipy.misc import imread, imresize\n",
    "import datetime\n",
    "import os\n",
    "import keras\n",
    "import matplotlib.pyplot as plt"
   ]
  },
  {
   "cell_type": "markdown",
   "metadata": {},
   "source": [
    "We set the random seed so that the results don't vary drastically."
   ]
  },
  {
   "cell_type": "code",
   "execution_count": 2,
   "metadata": {},
   "outputs": [],
   "source": [
    "np.random.seed(30)\n",
    "import random as rn\n",
    "rn.seed(30)\n",
    "from keras import backend as K\n",
    "import tensorflow as tf\n",
    "tf.set_random_seed(30)"
   ]
  },
  {
   "cell_type": "markdown",
   "metadata": {},
   "source": [
    "In this block, you read the folder names for training and validation. You also set the `batch_size` here. Note that you set the batch size in such a way that you are able to use the GPU in full capacity. You keep increasing the batch size until the machine throws an error."
   ]
  },
  {
   "cell_type": "code",
   "execution_count": 3,
   "metadata": {},
   "outputs": [],
   "source": [
    "\n",
    "train_doc = np.random.permutation(open('Project_data/train.csv').readlines())\n",
    "val_doc = np.random.permutation(open('Project_data/val.csv').readlines())\n",
    "batch_size =30#experiment with the batch size "
   ]
  },
  {
   "cell_type": "code",
   "execution_count": 4,
   "metadata": {},
   "outputs": [],
   "source": [
    "def crop_and_resize(image, output_l, output_w):\n",
    "    # if original image l and w are same, just resize them to output_l and output_w\n",
    "    # else, crop the bigger dimension to smaller dimension and resize them to output_l and output_w\n",
    "    l = image.shape[0]\n",
    "    w = image.shape[1]\n",
    "    \n",
    "    if l > w:\n",
    "        image = imresize(image, (w, w))\n",
    "    elif l < w:\n",
    "        image = imresize(image, (l, l))\n",
    "        \n",
    "    return imresize(image, (output_l, output_w))"
   ]
  },
  {
   "cell_type": "code",
   "execution_count": 5,
   "metadata": {},
   "outputs": [],
   "source": [
    "# Mean Normalization\n",
    "def mean_normalization(image):\n",
    "    return (image - image.min())/(image.max() - image.min())"
   ]
  },
  {
   "cell_type": "markdown",
   "metadata": {},
   "source": [
    "## Generator\n",
    "This is one of the most important part of the code. The overall structure of the generator has been given. In the generator, you are going to preprocess the images as you have images of 2 different dimensions as well as create a batch of video frames. You have to experiment with `img_idx`, `y`,`z` and normalization such that you get high accuracy."
   ]
  },
  {
   "cell_type": "code",
   "execution_count": 6,
   "metadata": {},
   "outputs": [],
   "source": [
    "def process_batch_images(source_path, folder_list, batch_size,batch,img_idx,t):    \n",
    "    x=len(img_idx)\n",
    "    y=120\n",
    "    z=120\n",
    "    \n",
    "       \n",
    "    batch_data = np.zeros((batch_size,x,y,z,3)) # x is the number of images you use for each video, (y,z) is the final size of the input images and 3 is the number of channels RGB\n",
    "    batch_labels = np.zeros((batch_size,5)) # batch_labels is the one hot representation of the output\n",
    "    for folder in range(batch_size): # iterate over the batch_size\n",
    "        imgs = os.listdir(source_path+'/'+ t[folder + (batch*batch_size)].split(';')[0]) # read all the images in the folder\n",
    "        for idx,item in enumerate(img_idx): #  Iterate iver the frames/images of a folder to read them in\n",
    "            image = imread(source_path+'/'+ t[folder + (batch*batch_size)].strip().split(';')[0]+'/'+imgs[item]).astype(np.float32)\n",
    "            \n",
    "            #crop the images and resize them. Note that the images are of 2 different shape \n",
    "            #and the conv3D will throw error if the inputs in a batch have different shapes                    \n",
    "            \n",
    "            resized_image = crop_and_resize(image, y, z)                   \n",
    "                            \n",
    "            normalized_image = mean_normalization(resized_image)            \n",
    "                \n",
    "            batch_data[folder,idx,:,:,0] = normalized_image[:,:,0]#normalise and feed in the image\n",
    "            batch_data[folder,idx,:,:,1] = normalized_image[:,:,1]#normalise and feed in the image\n",
    "            batch_data[folder,idx,:,:,2] = normalized_image[:,:,2] #normalise and feed in the image\n",
    "            \n",
    "        batch_labels[folder, int(t[folder + (batch*batch_size)].strip().split(';')[2])] = 1\n",
    "    return batch_data, batch_labels "
   ]
  },
  {
   "cell_type": "code",
   "execution_count": 7,
   "metadata": {},
   "outputs": [],
   "source": [
    "def generator(source_path, folder_list, batch_size):\n",
    "    print( 'Source path = ', source_path, '; batch size =', batch_size)\n",
    "    img_idx = [i for i in range(0,30,2)] #create a list of image numbers you want to use for a particular video --hari\n",
    "    while True:\n",
    "        t = np.random.permutation(folder_list)\n",
    "        num_batches = int(len(t)/batch_size) # calculate the number of batches--hari        \n",
    "        for batch in range(num_batches): # we iterate over the number of batches            \n",
    "            yield process_batch_images(source_path, folder_list, batch_size,batch,img_idx,t)\n",
    "        # write the code for the remaining data points which are left after full batches        \n",
    "        if (len(t))%(batch_size)!=0:\n",
    "            remaining_sequences = len(folder_list) % batch_size\n",
    "            yield process_batch_images(source_path, folder_list, remaining_sequences,batch,img_idx,t)"
   ]
  },
  {
   "cell_type": "markdown",
   "metadata": {},
   "source": [
    "Note here that a video is represented above in the generator as (number of images, height, width, number of channels). Take this into consideration while creating the model architecture."
   ]
  },
  {
   "cell_type": "code",
   "execution_count": 8,
   "metadata": {},
   "outputs": [
    {
     "name": "stdout",
     "output_type": "stream",
     "text": [
      "# training sequences = 663\n",
      "# validation sequences = 100\n",
      "# epochs = 20\n"
     ]
    }
   ],
   "source": [
    "curr_dt_time = datetime.datetime.now()\n",
    "#train_path = '/notebooks/storage/Final_data/Collated_training/train'\n",
    "#val_path = '/notebooks/storage/Final_data/Collated_training/val'\n",
    "train_path='Project_data/train'\n",
    "val_path='Project_data/val'\n",
    "num_train_sequences = len(train_doc)\n",
    "print('# training sequences =', num_train_sequences)\n",
    "num_val_sequences = len(val_doc)\n",
    "print('# validation sequences =', num_val_sequences)\n",
    "num_epochs =20# choose the number of epochs(30)\n",
    "print ('# epochs =', num_epochs)"
   ]
  },
  {
   "cell_type": "markdown",
   "metadata": {},
   "source": [
    "## Model\n",
    "Here you make the model using different functionalities that Keras provides. Remember to use `Conv3D` and `MaxPooling3D` and not `Conv2D` and `Maxpooling2D` for a 3D convolution model. You would want to use `TimeDistributed` while building a Conv2D + RNN model. Also remember that the last layer is the softmax. Design the network in such a way that the model is able to give good accuracy on the least number of parameters so that it can fit in the memory of the webcam."
   ]
  },
  {
   "cell_type": "code",
   "execution_count": 9,
   "metadata": {},
   "outputs": [],
   "source": [
    "from keras.models import Sequential, Model\n",
    "from keras.layers import Dense, GRU, Flatten, TimeDistributed, Flatten, BatchNormalization, Activation, Dropout\n",
    "from keras.layers.convolutional import Conv3D, MaxPooling3D\n",
    "from keras.callbacks import ModelCheckpoint, ReduceLROnPlateau\n",
    "from keras import optimizers\n",
    "\n",
    "#write your model here"
   ]
  },
  {
   "cell_type": "markdown",
   "metadata": {},
   "source": [
    "### Conv 3d\n"
   ]
  },
  {
   "cell_type": "markdown",
   "metadata": {},
   "source": [
    "##### Batch Size - 30 "
   ]
  },
  {
   "cell_type": "code",
   "execution_count": 10,
   "metadata": {},
   "outputs": [],
   "source": [
    "model = Sequential()\n",
    "model.add(Conv3D(64, kernel_size=(3, 3,3), \n",
    "                 input_shape=(15,120,120,3)))\n",
    "model.add(BatchNormalization())\n",
    "model.add(Activation('relu'))\n",
    "model.add(MaxPooling3D(pool_size=(2, 2,2)))\n",
    "#model.add(Dropout(0.25))\n",
    "\n",
    "model.add(Conv3D(32, kernel_size=(3, 3,3)))\n",
    "model.add(BatchNormalization())\n",
    "model.add(Activation('relu'))\n",
    "\n",
    "model.add(Conv3D(32, kernel_size=(3, 3,3)))\n",
    "model.add(BatchNormalization())\n",
    "model.add(Activation('relu'))\n",
    "model.add(MaxPooling3D(pool_size=(2, 2,2)))\n",
    "model.add(Dropout(0.25))          \n",
    "\n",
    "model.add(Conv3D(32, kernel_size=(1, 3,3)))\n",
    "model.add(BatchNormalization())\n",
    "model.add(Activation('relu'))\n",
    "#model.add(MaxPooling3D(pool_size=(2, 2,2)))\n",
    "model.add(Dropout(0.5))          \n",
    "\n",
    "# flatten and put a fully connected layer\n",
    "model.add(Flatten())\n",
    "model.add(Dense(120, activation='relu')) # fully connected\n",
    "model.add(Dropout(0.5))\n",
    "\n",
    "# softmax layer\n",
    "model.add(Dense(5, activation='softmax'))"
   ]
  },
  {
   "cell_type": "code",
   "execution_count": 11,
   "metadata": {},
   "outputs": [
    {
     "name": "stdout",
     "output_type": "stream",
     "text": [
      "_________________________________________________________________\n",
      "Layer (type)                 Output Shape              Param #   \n",
      "=================================================================\n",
      "conv3d_1 (Conv3D)            (None, 13, 118, 118, 64)  5248      \n",
      "_________________________________________________________________\n",
      "batch_normalization_1 (Batch (None, 13, 118, 118, 64)  256       \n",
      "_________________________________________________________________\n",
      "activation_1 (Activation)    (None, 13, 118, 118, 64)  0         \n",
      "_________________________________________________________________\n",
      "max_pooling3d_1 (MaxPooling3 (None, 6, 59, 59, 64)     0         \n",
      "_________________________________________________________________\n",
      "conv3d_2 (Conv3D)            (None, 4, 57, 57, 32)     55328     \n",
      "_________________________________________________________________\n",
      "batch_normalization_2 (Batch (None, 4, 57, 57, 32)     128       \n",
      "_________________________________________________________________\n",
      "activation_2 (Activation)    (None, 4, 57, 57, 32)     0         \n",
      "_________________________________________________________________\n",
      "conv3d_3 (Conv3D)            (None, 2, 55, 55, 32)     27680     \n",
      "_________________________________________________________________\n",
      "batch_normalization_3 (Batch (None, 2, 55, 55, 32)     128       \n",
      "_________________________________________________________________\n",
      "activation_3 (Activation)    (None, 2, 55, 55, 32)     0         \n",
      "_________________________________________________________________\n",
      "max_pooling3d_2 (MaxPooling3 (None, 1, 27, 27, 32)     0         \n",
      "_________________________________________________________________\n",
      "dropout_1 (Dropout)          (None, 1, 27, 27, 32)     0         \n",
      "_________________________________________________________________\n",
      "conv3d_4 (Conv3D)            (None, 1, 25, 25, 32)     9248      \n",
      "_________________________________________________________________\n",
      "batch_normalization_4 (Batch (None, 1, 25, 25, 32)     128       \n",
      "_________________________________________________________________\n",
      "activation_4 (Activation)    (None, 1, 25, 25, 32)     0         \n",
      "_________________________________________________________________\n",
      "dropout_2 (Dropout)          (None, 1, 25, 25, 32)     0         \n",
      "_________________________________________________________________\n",
      "flatten_1 (Flatten)          (None, 20000)             0         \n",
      "_________________________________________________________________\n",
      "dense_1 (Dense)              (None, 120)               2400120   \n",
      "_________________________________________________________________\n",
      "dropout_3 (Dropout)          (None, 120)               0         \n",
      "_________________________________________________________________\n",
      "dense_2 (Dense)              (None, 5)                 605       \n",
      "=================================================================\n",
      "Total params: 2,498,869\n",
      "Trainable params: 2,498,549\n",
      "Non-trainable params: 320\n",
      "_________________________________________________________________\n",
      "None\n"
     ]
    }
   ],
   "source": [
    "optimiser =optimizers.SGD(lr=0.01) #write your optimizer #hari(0.01)\n",
    "model.compile(optimizer=optimiser, loss='categorical_crossentropy', metrics=['categorical_accuracy'])\n",
    "print (model.summary())"
   ]
  },
  {
   "cell_type": "markdown",
   "metadata": {},
   "source": [
    "Let us create the `train_generator` and the `val_generator` which will be used in `.fit_generator`."
   ]
  },
  {
   "cell_type": "code",
   "execution_count": 12,
   "metadata": {},
   "outputs": [],
   "source": [
    "train_generator = generator(train_path, train_doc, batch_size)\n",
    "val_generator = generator(val_path, val_doc, batch_size)"
   ]
  },
  {
   "cell_type": "code",
   "execution_count": 13,
   "metadata": {},
   "outputs": [],
   "source": [
    "curr_dt_time = datetime.datetime.now()\n"
   ]
  },
  {
   "cell_type": "code",
   "execution_count": 14,
   "metadata": {},
   "outputs": [],
   "source": [
    "model_name = 'model_init' + '_' + str(curr_dt_time).replace(' ','').replace(':','_') + '/'\n",
    "    \n",
    "if not os.path.exists(model_name):\n",
    "    os.mkdir(model_name)\n",
    "        \n",
    "filepath = model_name + 'model-{epoch:05d}-{loss:.5f}-{categorical_accuracy:.5f}-{val_loss:.5f}-{val_categorical_accuracy:.5f}.h5'\n",
    "\n",
    "checkpoint = ModelCheckpoint(filepath, monitor='val_loss', verbose=1, save_best_only=False, save_weights_only=False, mode='auto', period=1)\n",
    "\n",
    "#hari\n",
    "LR =keras.callbacks.ReduceLROnPlateau(monitor='val_loss', factor=0.1, patience=10, verbose=0, mode='auto', min_delta=0.0001, cooldown=0, min_lr=0) # write the REducelronplateau code here\n",
    "callbacks_list = [checkpoint, LR]"
   ]
  },
  {
   "cell_type": "markdown",
   "metadata": {},
   "source": [
    "The `steps_per_epoch` and `validation_steps` are used by `fit_generator` to decide the number of next() calls it need to make."
   ]
  },
  {
   "cell_type": "code",
   "execution_count": 15,
   "metadata": {},
   "outputs": [],
   "source": [
    "if (num_train_sequences%batch_size) == 0:\n",
    "    steps_per_epoch = int(num_train_sequences/batch_size)\n",
    "else:\n",
    "    steps_per_epoch = (num_train_sequences//batch_size) + 1\n",
    "\n",
    "if (num_val_sequences%batch_size) == 0:\n",
    "    validation_steps = int(num_val_sequences/batch_size)\n",
    "else:\n",
    "    validation_steps = (num_val_sequences//batch_size) + 1"
   ]
  },
  {
   "cell_type": "code",
   "execution_count": 16,
   "metadata": {},
   "outputs": [
    {
     "name": "stdout",
     "output_type": "stream",
     "text": [
      "Source path =  Project_data/val ; batch size = 30\n",
      "Source path =  Project_data/train ; batch size = 30\n",
      "Epoch 1/20\n"
     ]
    },
    {
     "name": "stderr",
     "output_type": "stream",
     "text": [
      "/mnt/disks/user/anaconda3/lib/python3.6/site-packages/ipykernel_launcher.py:12: DeprecationWarning: `imread` is deprecated!\n",
      "`imread` is deprecated in SciPy 1.0.0, and will be removed in 1.2.0.\n",
      "Use ``imageio.imread`` instead.\n",
      "  if sys.path[0] == '':\n",
      "/mnt/disks/user/anaconda3/lib/python3.6/site-packages/ipykernel_launcher.py:10: DeprecationWarning: `imresize` is deprecated!\n",
      "`imresize` is deprecated in SciPy 1.0.0, and will be removed in 1.2.0.\n",
      "Use ``skimage.transform.resize`` instead.\n",
      "  # Remove the CWD from sys.path while we load stuff.\n",
      "/mnt/disks/user/anaconda3/lib/python3.6/site-packages/ipykernel_launcher.py:12: DeprecationWarning: `imresize` is deprecated!\n",
      "`imresize` is deprecated in SciPy 1.0.0, and will be removed in 1.2.0.\n",
      "Use ``skimage.transform.resize`` instead.\n",
      "  if sys.path[0] == '':\n"
     ]
    },
    {
     "name": "stdout",
     "output_type": "stream",
     "text": [
      "23/23 [==============================] - 51s 2s/step - loss: 1.8508 - categorical_accuracy: 0.3043 - val_loss: 2.6296 - val_categorical_accuracy: 0.2100\n",
      "\n",
      "Epoch 00001: saving model to model_init_2019-06-2415_35_18.920463/model-00001-1.86728-0.30317-2.62957-0.21000.h5\n",
      "Epoch 2/20\n",
      "23/23 [==============================] - 42s 2s/step - loss: 1.4587 - categorical_accuracy: 0.3754 - val_loss: 2.0926 - val_categorical_accuracy: 0.2600\n",
      "\n",
      "Epoch 00002: saving model to model_init_2019-06-2415_35_18.920463/model-00002-1.46813-0.37707-2.09261-0.26000.h5\n",
      "Epoch 3/20\n",
      "23/23 [==============================] - 43s 2s/step - loss: 1.3601 - categorical_accuracy: 0.3769 - val_loss: 3.2293 - val_categorical_accuracy: 0.1800\n",
      "\n",
      "Epoch 00003: saving model to model_init_2019-06-2415_35_18.920463/model-00003-1.33948-0.37858-3.22935-0.18000.h5\n",
      "Epoch 4/20\n",
      "23/23 [==============================] - 43s 2s/step - loss: 1.2816 - categorical_accuracy: 0.4422 - val_loss: 1.5298 - val_categorical_accuracy: 0.2800\n",
      "\n",
      "Epoch 00004: saving model to model_init_2019-06-2415_35_18.920463/model-00004-1.28686-0.44646-1.52981-0.28000.h5\n",
      "Epoch 5/20\n",
      "23/23 [==============================] - 44s 2s/step - loss: 1.2559 - categorical_accuracy: 0.4727 - val_loss: 3.4802 - val_categorical_accuracy: 0.2700\n",
      "\n",
      "Epoch 00005: saving model to model_init_2019-06-2415_35_18.920463/model-00005-1.20271-0.47813-3.48023-0.27000.h5\n",
      "Epoch 6/20\n",
      "23/23 [==============================] - 43s 2s/step - loss: 1.2954 - categorical_accuracy: 0.4538 - val_loss: 1.2376 - val_categorical_accuracy: 0.4600\n",
      "\n",
      "Epoch 00006: saving model to model_init_2019-06-2415_35_18.920463/model-00006-1.30570-0.45852-1.23761-0.46000.h5\n",
      "Epoch 7/20\n",
      "23/23 [==============================] - 43s 2s/step - loss: 1.1180 - categorical_accuracy: 0.5133 - val_loss: 1.4303 - val_categorical_accuracy: 0.2900\n",
      "\n",
      "Epoch 00007: saving model to model_init_2019-06-2415_35_18.920463/model-00007-1.12126-0.52036-1.43027-0.29000.h5\n",
      "Epoch 8/20\n",
      "23/23 [==============================] - 43s 2s/step - loss: 0.9212 - categorical_accuracy: 0.6109 - val_loss: 2.0796 - val_categorical_accuracy: 0.4200\n",
      "\n",
      "Epoch 00009: saving model to model_init_2019-06-2415_35_18.920463/model-00009-0.93663-0.59578-2.07956-0.42000.h5\n",
      "Epoch 10/20\n",
      "23/23 [==============================] - 43s 2s/step - loss: 0.8217 - categorical_accuracy: 0.6690 - val_loss: 1.2776 - val_categorical_accuracy: 0.5200\n",
      "\n",
      "Epoch 00010: saving model to model_init_2019-06-2415_35_18.920463/model-00010-0.84213-0.65611-1.27758-0.52000.h5\n",
      "Epoch 11/20\n",
      "23/23 [==============================] - 42s 2s/step - loss: 0.8249 - categorical_accuracy: 0.6449 - val_loss: 2.8783 - val_categorical_accuracy: 0.3400\n",
      "\n",
      "Epoch 00011: saving model to model_init_2019-06-2415_35_18.920463/model-00011-0.83592-0.64404-2.87829-0.34000.h5\n",
      "Epoch 12/20\n",
      "23/23 [==============================] - 42s 2s/step - loss: 0.8766 - categorical_accuracy: 0.6420 - val_loss: 1.2875 - val_categorical_accuracy: 0.5200\n",
      "\n",
      "Epoch 00012: saving model to model_init_2019-06-2415_35_18.920463/model-00012-0.87094-0.64103-1.28746-0.52000.h5\n",
      "Epoch 13/20\n",
      "23/23 [==============================] - 42s 2s/step - loss: 0.8671 - categorical_accuracy: 0.6382 - val_loss: 1.5056 - val_categorical_accuracy: 0.4300\n",
      "\n",
      "Epoch 00013: saving model to model_init_2019-06-2415_35_18.920463/model-00013-0.85254-0.65008-1.50564-0.43000.h5\n",
      "Epoch 14/20\n",
      "23/23 [==============================] - 44s 2s/step - loss: 0.7959 - categorical_accuracy: 0.6580 - val_loss: 0.9697 - val_categorical_accuracy: 0.6200\n",
      "\n",
      "Epoch 00014: saving model to model_init_2019-06-2415_35_18.920463/model-00014-0.80862-0.65762-0.96965-0.62000.h5\n",
      "Epoch 15/20\n",
      "23/23 [==============================] - 43s 2s/step - loss: 0.6944 - categorical_accuracy: 0.7488 - val_loss: 0.9738 - val_categorical_accuracy: 0.6200\n",
      "\n",
      "Epoch 00015: saving model to model_init_2019-06-2415_35_18.920463/model-00015-0.70239-0.73906-0.97384-0.62000.h5\n",
      "Epoch 16/20\n",
      "23/23 [==============================] - 43s 2s/step - loss: 0.5711 - categorical_accuracy: 0.7648 - val_loss: 1.0329 - val_categorical_accuracy: 0.5900\n",
      "\n",
      "Epoch 00016: saving model to model_init_2019-06-2415_35_18.920463/model-00016-0.57943-0.75566-1.03287-0.59000.h5\n",
      "Epoch 17/20\n",
      "23/23 [==============================] - 44s 2s/step - loss: 0.5974 - categorical_accuracy: 0.7677 - val_loss: 0.6782 - val_categorical_accuracy: 0.7300\n",
      "\n",
      "Epoch 00017: saving model to model_init_2019-06-2415_35_18.920463/model-00017-0.61335-0.75867-0.67823-0.73000.h5\n",
      "Epoch 18/20\n",
      "23/23 [==============================] - 44s 2s/step - loss: 0.5496 - categorical_accuracy: 0.7741 - val_loss: 0.6640 - val_categorical_accuracy: 0.7200\n",
      "\n",
      "Epoch 00018: saving model to model_init_2019-06-2415_35_18.920463/model-00018-0.54129-0.77828-0.66398-0.72000.h5\n",
      "Epoch 19/20\n",
      "23/23 [==============================] - 43s 2s/step - loss: 0.5592 - categorical_accuracy: 0.7660 - val_loss: 1.3770 - val_categorical_accuracy: 0.5900\n",
      "\n",
      "Epoch 00019: saving model to model_init_2019-06-2415_35_18.920463/model-00019-0.55151-0.78281-1.37701-0.59000.h5\n",
      "Epoch 20/20\n",
      "23/23 [==============================] - 43s 2s/step - loss: 0.5118 - categorical_accuracy: 0.7910 - val_loss: 1.1028 - val_categorical_accuracy: 0.5900\n",
      "\n",
      "Epoch 00020: saving model to model_init_2019-06-2415_35_18.920463/model-00020-0.52994-0.78281-1.10281-0.59000.h5\n"
     ]
    }
   ],
   "source": [
    "history=model.fit_generator(train_generator, steps_per_epoch=steps_per_epoch, epochs=num_epochs, verbose=1, \n",
    "                    callbacks=callbacks_list, validation_data=val_generator, \n",
    "                    validation_steps=validation_steps, class_weight=None, workers=1, initial_epoch=0)"
   ]
  },
  {
   "cell_type": "code",
   "execution_count": 17,
   "metadata": {},
   "outputs": [
    {
     "name": "stdout",
     "output_type": "stream",
     "text": [
      "dict_keys(['val_loss', 'val_categorical_accuracy', 'loss', 'categorical_accuracy', 'lr'])\n"
     ]
    },
    {
     "data": {
      "image/png": "[encoded data removed]",
      "text/plain": [
       "<Figure size 432x288 with 1 Axes>"
      ]
     },
     "metadata": {},
     "output_type": "display_data"
    },
    {
     "data": {
      "image/png": "[encoded data removed]",
      "text/plain": [
       "<Figure size 432x288 with 1 Axes>"
      ]
     },
     "metadata": {},
     "output_type": "display_data"
    }
   ],
   "source": [
    "print(history.history.keys())\n",
    "# summarize history for accuracy\n",
    "plt.plot(history.history['categorical_accuracy'])\n",
    "plt.plot(history.history['val_categorical_accuracy'])\n",
    "plt.title('model accuracy')\n",
    "plt.ylabel('accuracy')\n",
    "plt.xlabel('epoch')\n",
    "plt.legend(['train', 'val'], loc='upper left')\n",
    "plt.show()\n",
    "# summarize history for loss\n",
    "plt.plot(history.history['loss'])\n",
    "plt.plot(history.history['val_loss'])\n",
    "plt.title('model loss')\n",
    "plt.ylabel('loss')\n",
    "plt.xlabel('epoch')\n",
    "plt.legend(['train', 'val'], loc='upper left')\n",
    "plt.show()"
   ]
  },
  {
   "cell_type": "markdown",
   "metadata": {},
   "source": [
    "### Best model this approach \n",
    "###### Train Acc- 76.77 Val Acc=73"
   ]
  },
  {
   "cell_type": "markdown",
   "metadata": {},
   "source": [
    "## Changing batch size\n",
    "\n",
    "#### Changing batch size to 20\n"
   ]
  },
  {
   "cell_type": "code",
   "execution_count": 28,
   "metadata": {},
   "outputs": [],
   "source": [
    "model = Sequential()\n",
    "model.add(Conv3D(64, kernel_size=(3, 3,3), \n",
    "                 input_shape=(15,120,120,3)))\n",
    "model.add(BatchNormalization())\n",
    "model.add(Activation('relu'))\n",
    "model.add(MaxPooling3D(pool_size=(2, 2,2)))\n",
    "#model.add(Dropout(0.25))\n",
    "\n",
    "model.add(Conv3D(32, kernel_size=(3, 3,3)))\n",
    "model.add(BatchNormalization())\n",
    "model.add(Activation('relu'))\n",
    "\n",
    "model.add(Conv3D(32, kernel_size=(3, 3,3)))\n",
    "model.add(BatchNormalization())\n",
    "model.add(Activation('relu'))\n",
    "model.add(MaxPooling3D(pool_size=(2, 2,2)))\n",
    "model.add(Dropout(0.25))          \n",
    "\n",
    "model.add(Conv3D(32, kernel_size=(1, 3,3)))\n",
    "model.add(BatchNormalization())\n",
    "model.add(Activation('relu'))\n",
    "#model.add(MaxPooling3D(pool_size=(2, 2,2)))\n",
    "model.add(Dropout(0.5))          \n",
    "\n",
    "# flatten and put a fully connected layer\n",
    "model.add(Flatten())\n",
    "model.add(Dense(120, activation='relu')) # fully connected\n",
    "model.add(Dropout(0.5))\n",
    "\n",
    "# softmax layer\n",
    "model.add(Dense(5, activation='softmax'))"
   ]
  },
  {
   "cell_type": "code",
   "execution_count": 29,
   "metadata": {},
   "outputs": [
    {
     "name": "stdout",
     "output_type": "stream",
     "text": [
      "_________________________________________________________________\n",
      "Layer (type)                 Output Shape              Param #   \n",
      "=================================================================\n",
      "conv3d_9 (Conv3D)            (None, 13, 118, 118, 64)  5248      \n",
      "_________________________________________________________________\n",
      "batch_normalization_9 (Batch (None, 13, 118, 118, 64)  256       \n",
      "_________________________________________________________________\n",
      "activation_9 (Activation)    (None, 13, 118, 118, 64)  0         \n",
      "_________________________________________________________________\n",
      "max_pooling3d_5 (MaxPooling3 (None, 6, 59, 59, 64)     0         \n",
      "_________________________________________________________________\n",
      "conv3d_10 (Conv3D)           (None, 4, 57, 57, 32)     55328     \n",
      "_________________________________________________________________\n",
      "batch_normalization_10 (Batc (None, 4, 57, 57, 32)     128       \n",
      "_________________________________________________________________\n",
      "activation_10 (Activation)   (None, 4, 57, 57, 32)     0         \n",
      "_________________________________________________________________\n",
      "conv3d_11 (Conv3D)           (None, 2, 55, 55, 32)     27680     \n",
      "_________________________________________________________________\n",
      "batch_normalization_11 (Batc (None, 2, 55, 55, 32)     128       \n",
      "_________________________________________________________________\n",
      "activation_11 (Activation)   (None, 2, 55, 55, 32)     0         \n",
      "_________________________________________________________________\n",
      "max_pooling3d_6 (MaxPooling3 (None, 1, 27, 27, 32)     0         \n",
      "_________________________________________________________________\n",
      "dropout_7 (Dropout)          (None, 1, 27, 27, 32)     0         \n",
      "_________________________________________________________________\n",
      "conv3d_12 (Conv3D)           (None, 1, 25, 25, 32)     9248      \n",
      "_________________________________________________________________\n",
      "batch_normalization_12 (Batc (None, 1, 25, 25, 32)     128       \n",
      "_________________________________________________________________\n",
      "activation_12 (Activation)   (None, 1, 25, 25, 32)     0         \n",
      "_________________________________________________________________\n",
      "dropout_8 (Dropout)          (None, 1, 25, 25, 32)     0         \n",
      "_________________________________________________________________\n",
      "flatten_3 (Flatten)          (None, 20000)             0         \n",
      "_________________________________________________________________\n",
      "dense_5 (Dense)              (None, 120)               2400120   \n",
      "_________________________________________________________________\n",
      "dropout_9 (Dropout)          (None, 120)               0         \n",
      "_________________________________________________________________\n",
      "dense_6 (Dense)              (None, 5)                 605       \n",
      "=================================================================\n",
      "Total params: 2,498,869\n",
      "Trainable params: 2,498,549\n",
      "Non-trainable params: 320\n",
      "_________________________________________________________________\n",
      "None\n"
     ]
    }
   ],
   "source": [
    "optimiser =optimizers.SGD(lr=0.01) #write your optimizer #hari(0.01)\n",
    "model.compile(optimizer=optimiser, loss='categorical_crossentropy', metrics=['categorical_accuracy'])\n",
    "print (model.summary())"
   ]
  },
  {
   "cell_type": "markdown",
   "metadata": {},
   "source": [
    "Let us create the `train_generator` and the `val_generator` which will be used in `.fit_generator`."
   ]
  },
  {
   "cell_type": "code",
   "execution_count": 26,
   "metadata": {},
   "outputs": [],
   "source": [
    "batch_size=20"
   ]
  },
  {
   "cell_type": "code",
   "execution_count": 27,
   "metadata": {},
   "outputs": [],
   "source": [
    "train_generator = generator(train_path, train_doc, batch_size)\n",
    "val_generator = generator(val_path, val_doc, batch_size)"
   ]
  },
  {
   "cell_type": "code",
   "execution_count": 30,
   "metadata": {},
   "outputs": [],
   "source": [
    "curr_dt_time = datetime.datetime.now()\n"
   ]
  },
  {
   "cell_type": "code",
   "execution_count": 31,
   "metadata": {},
   "outputs": [],
   "source": [
    "model_name = 'model_init' + '_' + str(curr_dt_time).replace(' ','').replace(':','_') + '/'\n",
    "    \n",
    "if not os.path.exists(model_name):\n",
    "    os.mkdir(model_name)\n",
    "        \n",
    "filepath = model_name + 'model-{epoch:05d}-{loss:.5f}-{categorical_accuracy:.5f}-{val_loss:.5f}-{val_categorical_accuracy:.5f}.h5'\n",
    "\n",
    "checkpoint = ModelCheckpoint(filepath, monitor='val_loss', verbose=1, save_best_only=False, save_weights_only=False, mode='auto', period=1)\n",
    "\n",
    "#hari\n",
    "LR =keras.callbacks.ReduceLROnPlateau(monitor='val_loss', factor=0.1, patience=10, verbose=0, mode='auto', min_delta=0.0001, cooldown=0, min_lr=0) # write the REducelronplateau code here\n",
    "callbacks_list = [checkpoint, LR]"
   ]
  },
  {
   "cell_type": "markdown",
   "metadata": {},
   "source": [
    "The `steps_per_epoch` and `validation_steps` are used by `fit_generator` to decide the number of next() calls it need to make."
   ]
  },
  {
   "cell_type": "code",
   "execution_count": null,
   "metadata": {},
   "outputs": [],
   "source": []
  },
  {
   "cell_type": "code",
   "execution_count": 32,
   "metadata": {},
   "outputs": [],
   "source": [
    "if (num_train_sequences%batch_size) == 0:\n",
    "    steps_per_epoch = int(num_train_sequences/batch_size)\n",
    "else:\n",
    "    steps_per_epoch = (num_train_sequences//batch_size) + 1\n",
    "\n",
    "if (num_val_sequences%batch_size) == 0:\n",
    "    validation_steps = int(num_val_sequences/batch_size)\n",
    "else:\n",
    "    validation_steps = (num_val_sequences//batch_size) + 1"
   ]
  },
  {
   "cell_type": "code",
   "execution_count": 33,
   "metadata": {},
   "outputs": [
    {
     "name": "stdout",
     "output_type": "stream",
     "text": [
      "Source path =  Project_data/val ; batch size = 20\n",
      "Source path =  Project_data/train ; batch size = 20\n",
      "Epoch 1/20\n"
     ]
    },
    {
     "name": "stderr",
     "output_type": "stream",
     "text": [
      "/mnt/disks/user/anaconda3/lib/python3.6/site-packages/ipykernel_launcher.py:12: DeprecationWarning: `imread` is deprecated!\n",
      "`imread` is deprecated in SciPy 1.0.0, and will be removed in 1.2.0.\n",
      "Use ``imageio.imread`` instead.\n",
      "  if sys.path[0] == '':\n",
      "/mnt/disks/user/anaconda3/lib/python3.6/site-packages/ipykernel_launcher.py:10: DeprecationWarning: `imresize` is deprecated!\n",
      "`imresize` is deprecated in SciPy 1.0.0, and will be removed in 1.2.0.\n",
      "Use ``skimage.transform.resize`` instead.\n",
      "  # Remove the CWD from sys.path while we load stuff.\n",
      "/mnt/disks/user/anaconda3/lib/python3.6/site-packages/ipykernel_launcher.py:12: DeprecationWarning: `imresize` is deprecated!\n",
      "`imresize` is deprecated in SciPy 1.0.0, and will be removed in 1.2.0.\n",
      "Use ``skimage.transform.resize`` instead.\n",
      "  if sys.path[0] == '':\n"
     ]
    },
    {
     "name": "stdout",
     "output_type": "stream",
     "text": [
      "34/34 [==============================] - 47s 1s/step - loss: 1.8769 - categorical_accuracy: 0.2509 - val_loss: 2.3626 - val_categorical_accuracy: 0.2000\n",
      "\n",
      "Epoch 00001: saving model to model_init_2019-06-2415_58_30.634251/model-00001-1.86391-0.24887-2.36256-0.20000.h5\n",
      "Epoch 2/20\n",
      "34/34 [==============================] - 42s 1s/step - loss: 1.4619 - categorical_accuracy: 0.3804 - val_loss: 1.4069 - val_categorical_accuracy: 0.3600\n",
      "\n",
      "Epoch 00002: saving model to model_init_2019-06-2415_58_30.634251/model-00002-1.46545-0.38160-1.40688-0.36000.h5\n",
      "Epoch 3/20\n",
      "34/34 [==============================] - 43s 1s/step - loss: 1.2682 - categorical_accuracy: 0.4386 - val_loss: 1.1555 - val_categorical_accuracy: 0.4400\n",
      "\n",
      "Epoch 00003: saving model to model_init_2019-06-2415_58_30.634251/model-00003-1.28124-0.43288-1.15552-0.44000.h5\n",
      "Epoch 4/20\n",
      "34/34 [==============================] - 43s 1s/step - loss: 1.2216 - categorical_accuracy: 0.4864 - val_loss: 1.4048 - val_categorical_accuracy: 0.3300\n",
      "\n",
      "Epoch 00004: saving model to model_init_2019-06-2415_58_30.634251/model-00004-1.21632-0.49020-1.40478-0.33000.h5\n",
      "Epoch 5/20\n",
      "34/34 [==============================] - 43s 1s/step - loss: 1.1883 - categorical_accuracy: 0.5055 - val_loss: 1.1446 - val_categorical_accuracy: 0.4500\n",
      "\n",
      "Epoch 00005: saving model to model_init_2019-06-2415_58_30.634251/model-00005-1.16492-0.50980-1.14459-0.45000.h5\n",
      "Epoch 6/20\n",
      "34/34 [==============================] - 43s 1s/step - loss: 1.0255 - categorical_accuracy: 0.5548 - val_loss: 1.0622 - val_categorical_accuracy: 0.5500\n",
      "\n",
      "Epoch 00006: saving model to model_init_2019-06-2415_58_30.634251/model-00006-1.02747-0.55204-1.06222-0.55000.h5\n",
      "Epoch 7/20\n",
      "34/34 [==============================] - 42s 1s/step - loss: 1.0400 - categorical_accuracy: 0.5673 - val_loss: 1.1156 - val_categorical_accuracy: 0.4900\n",
      "\n",
      "Epoch 00007: saving model to model_init_2019-06-2415_58_30.634251/model-00007-1.03786-0.57315-1.11558-0.49000.h5\n",
      "Epoch 8/20\n",
      "34/34 [==============================] - 43s 1s/step - loss: 0.8943 - categorical_accuracy: 0.6225 - val_loss: 2.8539 - val_categorical_accuracy: 0.2300\n",
      "\n",
      "Epoch 00008: saving model to model_init_2019-06-2415_58_30.634251/model-00008-0.90359-0.62142-2.85390-0.23000.h5\n",
      "Epoch 9/20\n",
      "34/34 [==============================] - 43s 1s/step - loss: 0.8828 - categorical_accuracy: 0.6586 - val_loss: 0.9571 - val_categorical_accuracy: 0.5900\n",
      "\n",
      "Epoch 00009: saving model to model_init_2019-06-2415_58_30.634251/model-00009-0.88493-0.65008-0.95713-0.59000.h5\n",
      "Epoch 10/20\n",
      "34/34 [==============================] - 43s 1s/step - loss: 0.8420 - categorical_accuracy: 0.6770 - val_loss: 1.1092 - val_categorical_accuracy: 0.4900\n",
      "\n",
      "Epoch 00010: saving model to model_init_2019-06-2415_58_30.634251/model-00010-0.83995-0.67722-1.10924-0.49000.h5\n",
      "Epoch 11/20\n",
      "34/34 [==============================] - 42s 1s/step - loss: 0.7859 - categorical_accuracy: 0.6932 - val_loss: 0.8782 - val_categorical_accuracy: 0.6400\n",
      "\n",
      "Epoch 00011: saving model to model_init_2019-06-2415_58_30.634251/model-00011-0.77514-0.69382-0.87823-0.64000.h5\n",
      "Epoch 12/20\n",
      "34/34 [==============================] - 42s 1s/step - loss: 0.7388 - categorical_accuracy: 0.6880 - val_loss: 1.0209 - val_categorical_accuracy: 0.5900\n",
      "\n",
      "Epoch 00012: saving model to model_init_2019-06-2415_58_30.634251/model-00012-0.72474-0.69683-1.02090-0.59000.h5\n",
      "Epoch 13/20\n",
      "34/34 [==============================] - 42s 1s/step - loss: 0.6763 - categorical_accuracy: 0.7241 - val_loss: 1.6532 - val_categorical_accuracy: 0.5600\n",
      "\n",
      "Epoch 00013: saving model to model_init_2019-06-2415_58_30.634251/model-00013-0.66379-0.72549-1.65316-0.56000.h5\n",
      "Epoch 14/20\n",
      "34/34 [==============================] - 43s 1s/step - loss: 0.6250 - categorical_accuracy: 0.7432 - val_loss: 0.7377 - val_categorical_accuracy: 0.7000\n",
      "\n",
      "Epoch 00014: saving model to model_init_2019-06-2415_58_30.634251/model-00014-0.62353-0.74510-0.73767-0.70000.h5\n",
      "Epoch 15/20\n",
      "34/34 [==============================] - 43s 1s/step - loss: 0.5522 - categorical_accuracy: 0.8028 - val_loss: 0.8406 - val_categorical_accuracy: 0.6500\n",
      "\n",
      "Epoch 00015: saving model to model_init_2019-06-2415_58_30.634251/model-00015-0.55579-0.79789-0.84064-0.65000.h5\n",
      "Epoch 16/20\n",
      "34/34 [==============================] - 43s 1s/step - loss: 0.5537 - categorical_accuracy: 0.7925 - val_loss: 1.6158 - val_categorical_accuracy: 0.5200\n",
      "\n",
      "Epoch 00016: saving model to model_init_2019-06-2415_58_30.634251/model-00016-0.55552-0.78733-1.61581-0.52000.h5\n",
      "Epoch 17/20\n",
      "34/34 [==============================] - 42s 1s/step - loss: 0.4979 - categorical_accuracy: 0.8102 - val_loss: 0.6885 - val_categorical_accuracy: 0.7100\n",
      "\n",
      "Epoch 00017: saving model to model_init_2019-06-2415_58_30.634251/model-00017-0.48389-0.82202-0.68847-0.71000.h5\n",
      "Epoch 18/20\n",
      "34/34 [==============================] - 43s 1s/step - loss: 0.5526 - categorical_accuracy: 0.7822 - val_loss: 3.7683 - val_categorical_accuracy: 0.3700\n",
      "\n",
      "Epoch 00018: saving model to model_init_2019-06-2415_58_30.634251/model-00018-0.51888-0.79336-3.76833-0.37000.h5\n",
      "Epoch 19/20\n",
      "34/34 [==============================] - 43s 1s/step - loss: 0.5202 - categorical_accuracy: 0.7815 - val_loss: 1.1729 - val_categorical_accuracy: 0.5900\n",
      "\n",
      "Epoch 00019: saving model to model_init_2019-06-2415_58_30.634251/model-00019-0.51595-0.78431-1.17295-0.59000.h5\n",
      "Epoch 20/20\n",
      "34/34 [==============================] - 43s 1s/step - loss: 0.4902 - categorical_accuracy: 0.8197 - val_loss: 0.9770 - val_categorical_accuracy: 0.6200\n",
      "\n",
      "Epoch 00020: saving model to model_init_2019-06-2415_58_30.634251/model-00020-0.49177-0.82353-0.97698-0.62000.h5\n"
     ]
    }
   ],
   "source": [
    "history=model.fit_generator(train_generator, steps_per_epoch=steps_per_epoch, epochs=num_epochs, verbose=1, \n",
    "                    callbacks=callbacks_list, validation_data=val_generator, \n",
    "                    validation_steps=validation_steps, class_weight=None, workers=1, initial_epoch=0)"
   ]
  },
  {
   "cell_type": "code",
   "execution_count": 34,
   "metadata": {},
   "outputs": [
    {
     "name": "stdout",
     "output_type": "stream",
     "text": [
      "dict_keys(['val_loss', 'val_categorical_accuracy', 'loss', 'categorical_accuracy', 'lr'])\n"
     ]
    },
    {
     "data": {
      "image/png": "[encoded data removed]",
      "text/plain": [
       "<Figure size 432x288 with 1 Axes>"
      ]
     },
     "metadata": {},
     "output_type": "display_data"
    },
    {
     "data": {
      "image/png": "[encoded data removed]",
      "text/plain": [
       "<Figure size 432x288 with 1 Axes>"
      ]
     },
     "metadata": {},
     "output_type": "display_data"
    }
   ],
   "source": [
    "print(history.history.keys())\n",
    "# summarize history for accuracy\n",
    "plt.plot(history.history['categorical_accuracy'])\n",
    "plt.plot(history.history['val_categorical_accuracy'])\n",
    "plt.title('model accuracy')\n",
    "plt.ylabel('accuracy')\n",
    "plt.xlabel('epoch')\n",
    "plt.legend(['train', 'val'], loc='upper left')\n",
    "plt.show()\n",
    "# summarize history for loss\n",
    "plt.plot(history.history['loss'])\n",
    "plt.plot(history.history['val_loss'])\n",
    "plt.title('model loss')\n",
    "plt.ylabel('loss')\n",
    "plt.xlabel('epoch')\n",
    "plt.legend(['train', 'val'], loc='upper left')\n",
    "plt.show()"
   ]
  },
  {
   "cell_type": "markdown",
   "metadata": {},
   "source": [
    "#### Best model this approach \n",
    "###### Train Acc- 81.02 Val Acc=71"
   ]
  },
  {
   "cell_type": "markdown",
   "metadata": {},
   "source": [
    "### Trying with more epochs   "
   ]
  },
  {
   "cell_type": "markdown",
   "metadata": {},
   "source": [
    "Marked cells as Markdown as this will take around hour to complete"
   ]
  },
  {
   "cell_type": "markdown",
   "metadata": {},
   "source": [
    "batch_size=30\n",
    "print ('# batch_size =', batch_size)\n",
    "num_epochs =50 # choose the number of epochs\n",
    "print ('# epochs =', num_epochs)"
   ]
  },
  {
   "cell_type": "markdown",
   "metadata": {},
   "source": [
    "model_name = 'model_init' + '_' + str(curr_dt_time).replace(' ','').replace(':','_') + '/'\n",
    "    \n",
    "if not os.path.exists(model_name):\n",
    "    os.mkdir(model_name)\n",
    "        \n",
    "filepath = model_name + 'model-{epoch:05d}-{loss:.5f}-{categorical_accuracy:.5f}-{val_loss:.5f}-{val_categorical_accuracy:.5f}.h5'\n",
    "\n",
    "checkpoint = ModelCheckpoint(filepath, monitor='val_loss', verbose=1, save_best_only=False, save_weights_only=False, mode='auto', period=1)\n",
    "\n",
    "#hari\n",
    "LR =keras.callbacks.ReduceLROnPlateau(monitor='val_loss', factor=0.1, patience=10, verbose=0, mode='auto', min_delta=0.0001, cooldown=0, min_lr=0) # write the REducelronplateau code here\n",
    "callbacks_list = [checkpoint, LR]"
   ]
  },
  {
   "cell_type": "markdown",
   "metadata": {},
   "source": [
    "if (num_train_sequences%batch_size) == 0:\n",
    "    steps_per_epoch = int(num_train_sequences/batch_size)\n",
    "else:\n",
    "    steps_per_epoch = (num_train_sequences//batch_size) + 1\n",
    "\n",
    "if (num_val_sequences%batch_size) == 0:\n",
    "    validation_steps = int(num_val_sequences/batch_size)\n",
    "else:\n",
    "    validation_steps = (num_val_sequences//batch_size) + 1"
   ]
  },
  {
   "cell_type": "markdown",
   "metadata": {},
   "source": [
    "history=model.fit_generator(train_generator, steps_per_epoch=steps_per_epoch, epochs=num_epochs, verbose=1, \n",
    "                    callbacks=callbacks_list, validation_data=val_generator, \n",
    "                    validation_steps=validation_steps, class_weight=None, workers=1, initial_epoch=0)"
   ]
  },
  {
   "cell_type": "markdown",
   "metadata": {},
   "source": [
    "print(history.history.keys())\n",
    "\n",
    "plt.plot(history.history['categorical_accuracy'])\n",
    "plt.plot(history.history['val_categorical_accuracy'])\n",
    "plt.title('model accuracy')\n",
    "plt.ylabel('accuracy')\n",
    "plt.xlabel('epoch')\n",
    "plt.legend(['train', 'val'], loc='upper left')\n",
    "plt.show()\n",
    "\n",
    "plt.plot(history.history['loss'])\n",
    "plt.plot(history.history['val_loss'])\n",
    "plt.title('model loss')\n",
    "plt.ylabel('loss')\n",
    "plt.xlabel('epoch')\n",
    "plt.legend(['train', 'val'], loc='upper left')\n",
    "plt.show()"
   ]
  },
  {
   "cell_type": "code",
   "execution_count": null,
   "metadata": {},
   "outputs": [],
   "source": [
    "### Even for more epochs we can see that , Still there is not much difference "
   ]
  },
  {
   "cell_type": "markdown",
   "metadata": {},
   "source": [
    "#### Same model with different parameters for ReduceLROnPlateau"
   ]
  },
  {
   "cell_type": "code",
   "execution_count": 43,
   "metadata": {},
   "outputs": [],
   "source": [
    "model = Sequential()\n",
    "model.add(Conv3D(64, kernel_size=(3, 3,3), \n",
    "                 input_shape=(15,120,120,3)))\n",
    "model.add(BatchNormalization())\n",
    "model.add(Activation('relu'))\n",
    "model.add(MaxPooling3D(pool_size=(2, 2,2)))\n",
    "#model.add(Dropout(0.25))\n",
    "\n",
    "model.add(Conv3D(32, kernel_size=(3, 3,3)))\n",
    "model.add(BatchNormalization())\n",
    "model.add(Activation('relu'))\n",
    "\n",
    "model.add(Conv3D(32, kernel_size=(3, 3,3)))\n",
    "model.add(BatchNormalization())\n",
    "model.add(Activation('relu'))\n",
    "model.add(MaxPooling3D(pool_size=(2, 2,2)))\n",
    "model.add(Dropout(0.25))          \n",
    "\n",
    "model.add(Conv3D(32, kernel_size=(1, 3,3)))\n",
    "model.add(BatchNormalization())\n",
    "model.add(Activation('relu'))\n",
    "#model.add(MaxPooling3D(pool_size=(2, 2,2)))\n",
    "model.add(Dropout(0.5))          \n",
    "\n",
    "# flatten and put a fully connected layer\n",
    "model.add(Flatten())\n",
    "model.add(Dense(120, activation='relu')) # fully connected\n",
    "model.add(Dropout(0.5))\n",
    "\n",
    "# softmax layer\n",
    "model.add(Dense(5, activation='softmax'))"
   ]
  },
  {
   "cell_type": "code",
   "execution_count": 44,
   "metadata": {},
   "outputs": [
    {
     "name": "stdout",
     "output_type": "stream",
     "text": [
      "_________________________________________________________________\n",
      "Layer (type)                 Output Shape              Param #   \n",
      "=================================================================\n",
      "conv3d_17 (Conv3D)           (None, 13, 118, 118, 64)  5248      \n",
      "_________________________________________________________________\n",
      "batch_normalization_17 (Batc (None, 13, 118, 118, 64)  256       \n",
      "_________________________________________________________________\n",
      "activation_17 (Activation)   (None, 13, 118, 118, 64)  0         \n",
      "_________________________________________________________________\n",
      "max_pooling3d_9 (MaxPooling3 (None, 6, 59, 59, 64)     0         \n",
      "_________________________________________________________________\n",
      "conv3d_18 (Conv3D)           (None, 4, 57, 57, 32)     55328     \n",
      "_________________________________________________________________\n",
      "batch_normalization_18 (Batc (None, 4, 57, 57, 32)     128       \n",
      "_________________________________________________________________\n",
      "activation_18 (Activation)   (None, 4, 57, 57, 32)     0         \n",
      "_________________________________________________________________\n",
      "conv3d_19 (Conv3D)           (None, 2, 55, 55, 32)     27680     \n",
      "_________________________________________________________________\n",
      "batch_normalization_19 (Batc (None, 2, 55, 55, 32)     128       \n",
      "_________________________________________________________________\n",
      "activation_19 (Activation)   (None, 2, 55, 55, 32)     0         \n",
      "_________________________________________________________________\n",
      "max_pooling3d_10 (MaxPooling (None, 1, 27, 27, 32)     0         \n",
      "_________________________________________________________________\n",
      "dropout_13 (Dropout)         (None, 1, 27, 27, 32)     0         \n",
      "_________________________________________________________________\n",
      "conv3d_20 (Conv3D)           (None, 1, 25, 25, 32)     9248      \n",
      "_________________________________________________________________\n",
      "batch_normalization_20 (Batc (None, 1, 25, 25, 32)     128       \n",
      "_________________________________________________________________\n",
      "activation_20 (Activation)   (None, 1, 25, 25, 32)     0         \n",
      "_________________________________________________________________\n",
      "dropout_14 (Dropout)         (None, 1, 25, 25, 32)     0         \n",
      "_________________________________________________________________\n",
      "flatten_5 (Flatten)          (None, 20000)             0         \n",
      "_________________________________________________________________\n",
      "dense_9 (Dense)              (None, 120)               2400120   \n",
      "_________________________________________________________________\n",
      "dropout_15 (Dropout)         (None, 120)               0         \n",
      "_________________________________________________________________\n",
      "dense_10 (Dense)             (None, 5)                 605       \n",
      "=================================================================\n",
      "Total params: 2,498,869\n",
      "Trainable params: 2,498,549\n",
      "Non-trainable params: 320\n",
      "_________________________________________________________________\n",
      "None\n"
     ]
    }
   ],
   "source": [
    "optimiser =optimizers.SGD(lr=0.01) #write your optimizer #hari(0.01)\n",
    "model.compile(optimizer=optimiser, loss='categorical_crossentropy', metrics=['categorical_accuracy'])\n",
    "print (model.summary())"
   ]
  },
  {
   "cell_type": "markdown",
   "metadata": {},
   "source": [
    "Let us create the `train_generator` and the `val_generator` which will be used in `.fit_generator`."
   ]
  },
  {
   "cell_type": "code",
   "execution_count": 45,
   "metadata": {},
   "outputs": [],
   "source": [
    "batch_size=30\n",
    "num_epochs =20 \n"
   ]
  },
  {
   "cell_type": "code",
   "execution_count": 46,
   "metadata": {},
   "outputs": [],
   "source": [
    "train_generator = generator(train_path, train_doc, batch_size)\n",
    "val_generator = generator(val_path, val_doc, batch_size)"
   ]
  },
  {
   "cell_type": "code",
   "execution_count": 47,
   "metadata": {},
   "outputs": [],
   "source": [
    "curr_dt_time = datetime.datetime.now()\n"
   ]
  },
  {
   "cell_type": "code",
   "execution_count": 48,
   "metadata": {},
   "outputs": [],
   "source": [
    "model_name = 'model_init' + '_' + str(curr_dt_time).replace(' ','').replace(':','_') + '/'\n",
    "    \n",
    "if not os.path.exists(model_name):\n",
    "    os.mkdir(model_name)\n",
    "        \n",
    "filepath = model_name + 'model-{epoch:05d}-{loss:.5f}-{categorical_accuracy:.5f}-{val_loss:.5f}-{val_categorical_accuracy:.5f}.h5'\n",
    "\n",
    "checkpoint = ModelCheckpoint(filepath, monitor='val_loss', verbose=1, save_best_only=False, save_weights_only=False, mode='auto', period=1)\n",
    "\n",
    "#hari\n",
    "LR =keras.callbacks.ReduceLROnPlateau(monitor='val_loss', factor=0.5, patience=2, verbose=1, mode='auto', cooldown=1) # write the REducelronplateau code here\n",
    "callbacks_list = [checkpoint, LR]"
   ]
  },
  {
   "cell_type": "markdown",
   "metadata": {},
   "source": [
    "The `steps_per_epoch` and `validation_steps` are used by `fit_generator` to decide the number of next() calls it need to make."
   ]
  },
  {
   "cell_type": "code",
   "execution_count": 49,
   "metadata": {},
   "outputs": [],
   "source": [
    "if (num_train_sequences%batch_size) == 0:\n",
    "    steps_per_epoch = int(num_train_sequences/batch_size)\n",
    "else:\n",
    "    steps_per_epoch = (num_train_sequences//batch_size) + 1\n",
    "\n",
    "if (num_val_sequences%batch_size) == 0:\n",
    "    validation_steps = int(num_val_sequences/batch_size)\n",
    "else:\n",
    "    validation_steps = (num_val_sequences//batch_size) + 1"
   ]
  },
  {
   "cell_type": "code",
   "execution_count": 50,
   "metadata": {},
   "outputs": [
    {
     "name": "stdout",
     "output_type": "stream",
     "text": [
      "Source path =  Project_data/valSource path =  Project_data/train ; batch size = ; batch size = 30\n",
      " 30\n",
      "Epoch 1/20\n"
     ]
    },
    {
     "name": "stderr",
     "output_type": "stream",
     "text": [
      "/mnt/disks/user/anaconda3/lib/python3.6/site-packages/ipykernel_launcher.py:12: DeprecationWarning: `imread` is deprecated!\n",
      "`imread` is deprecated in SciPy 1.0.0, and will be removed in 1.2.0.\n",
      "Use ``imageio.imread`` instead.\n",
      "  if sys.path[0] == '':\n",
      "/mnt/disks/user/anaconda3/lib/python3.6/site-packages/ipykernel_launcher.py:12: DeprecationWarning: `imresize` is deprecated!\n",
      "`imresize` is deprecated in SciPy 1.0.0, and will be removed in 1.2.0.\n",
      "Use ``skimage.transform.resize`` instead.\n",
      "  if sys.path[0] == '':\n",
      "/mnt/disks/user/anaconda3/lib/python3.6/site-packages/ipykernel_launcher.py:10: DeprecationWarning: `imresize` is deprecated!\n",
      "`imresize` is deprecated in SciPy 1.0.0, and will be removed in 1.2.0.\n",
      "Use ``skimage.transform.resize`` instead.\n",
      "  # Remove the CWD from sys.path while we load stuff.\n"
     ]
    },
    {
     "name": "stdout",
     "output_type": "stream",
     "text": [
      "23/23 [==============================] - 49s 2s/step - loss: 1.8026 - categorical_accuracy: 0.2732 - val_loss: 2.1686 - val_categorical_accuracy: 0.2400\n",
      "\n",
      "Epoch 00001: saving model to model_init_2019-06-2416_13_58.226141/model-00001-1.83129-0.25792-2.16865-0.24000.h5\n",
      "Epoch 2/20\n",
      "23/23 [==============================] - 43s 2s/step - loss: 1.3610 - categorical_accuracy: 0.4239 - val_loss: 2.2052 - val_categorical_accuracy: 0.2200\n",
      "\n",
      "Epoch 00003: saving model to model_init_2019-06-2416_13_58.226141/model-00003-1.31277-0.44042-2.20518-0.22000.h5\n",
      "\n",
      "Epoch 00003: ReduceLROnPlateau reducing learning rate to 0.004999999888241291.\n",
      "Epoch 4/20\n",
      "23/23 [==============================] - 44s 2s/step - loss: 1.3340 - categorical_accuracy: 0.4402 - val_loss: 1.0156 - val_categorical_accuracy: 0.5500\n",
      "\n",
      "Epoch 00004: saving model to model_init_2019-06-2416_13_58.226141/model-00004-1.33862-0.43137-1.01556-0.55000.h5\n",
      "Epoch 5/20\n",
      "23/23 [==============================] - 43s 2s/step - loss: 1.1861 - categorical_accuracy: 0.4788 - val_loss: 1.1364 - val_categorical_accuracy: 0.4800\n",
      "\n",
      "Epoch 00005: saving model to model_init_2019-06-2416_13_58.226141/model-00005-1.20346-0.45852-1.13644-0.48000.h5\n",
      "Epoch 6/20\n",
      "23/23 [==============================] - 43s 2s/step - loss: 1.1415 - categorical_accuracy: 0.5284 - val_loss: 1.1789 - val_categorical_accuracy: 0.5300\n",
      "\n",
      "Epoch 00006: saving model to model_init_2019-06-2416_13_58.226141/model-00006-1.10642-0.54902-1.17886-0.53000.h5\n",
      "\n",
      "Epoch 00006: ReduceLROnPlateau reducing learning rate to 0.0024999999441206455.\n",
      "Epoch 7/20\n",
      "23/23 [==============================] - 44s 2s/step - loss: 1.0671 - categorical_accuracy: 0.5299 - val_loss: 0.9264 - val_categorical_accuracy: 0.6400\n",
      "\n",
      "Epoch 00007: saving model to model_init_2019-06-2416_13_58.226141/model-00007-1.04903-0.55053-0.92638-0.64000.h5\n",
      "Epoch 8/20\n",
      "23/23 [==============================] - 43s 2s/step - loss: 1.0388 - categorical_accuracy: 0.5308 - val_loss: 0.9133 - val_categorical_accuracy: 0.6400\n",
      "\n",
      "Epoch 00008: saving model to model_init_2019-06-2416_13_58.226141/model-00008-1.04670-0.53846-0.91332-0.64000.h5\n",
      "Epoch 9/20\n",
      "23/23 [==============================] - 43s 2s/step - loss: 0.9792 - categorical_accuracy: 0.6173 - val_loss: 0.9869 - val_categorical_accuracy: 0.6100\n",
      "\n",
      "Epoch 00009: saving model to model_init_2019-06-2416_13_58.226141/model-00009-0.98393-0.61538-0.98688-0.61000.h5\n",
      "Epoch 10/20\n",
      "23/23 [==============================] - 44s 2s/step - loss: 0.9753 - categorical_accuracy: 0.5694 - val_loss: 1.1322 - val_categorical_accuracy: 0.5700\n",
      "\n",
      "Epoch 00010: saving model to model_init_2019-06-2416_13_58.226141/model-00010-0.97884-0.56561-1.13216-0.57000.h5\n",
      "\n",
      "Epoch 00010: ReduceLROnPlateau reducing learning rate to 0.0012499999720603228.\n",
      "Epoch 11/20\n",
      "23/23 [==============================] - 43s 2s/step - loss: 0.9646 - categorical_accuracy: 0.5926 - val_loss: 0.9457 - val_categorical_accuracy: 0.6500\n",
      "\n",
      "Epoch 00011: saving model to model_init_2019-06-2416_13_58.226141/model-00011-0.97164-0.58974-0.94566-0.65000.h5\n",
      "Epoch 12/20\n",
      "23/23 [==============================] - 44s 2s/step - loss: 0.8896 - categorical_accuracy: 0.6478 - val_loss: 0.9446 - val_categorical_accuracy: 0.6200\n",
      "\n",
      "Epoch 00012: saving model to model_init_2019-06-2416_13_58.226141/model-00012-0.89900-0.64706-0.94460-0.62000.h5\n",
      "\n",
      "Epoch 00012: ReduceLROnPlateau reducing learning rate to 0.0006249999860301614.\n",
      "Epoch 13/20\n",
      "23/23 [==============================] - 43s 2s/step - loss: 0.9054 - categorical_accuracy: 0.6130 - val_loss: 0.8961 - val_categorical_accuracy: 0.6500\n",
      "\n",
      "Epoch 00013: saving model to model_init_2019-06-2416_13_58.226141/model-00013-0.90103-0.61086-0.89611-0.65000.h5\n",
      "Epoch 14/20\n",
      "23/23 [==============================] - 43s 2s/step - loss: 0.8708 - categorical_accuracy: 0.6353 - val_loss: 0.9043 - val_categorical_accuracy: 0.6500\n",
      "\n",
      "Epoch 00014: saving model to model_init_2019-06-2416_13_58.226141/model-00014-0.86064-0.64706-0.90434-0.65000.h5\n",
      "Epoch 15/20\n",
      "23/23 [==============================] - 43s 2s/step - loss: 0.8495 - categorical_accuracy: 0.6734 - val_loss: 0.7763 - val_categorical_accuracy: 0.7600\n",
      "\n",
      "Epoch 00015: saving model to model_init_2019-06-2416_13_58.226141/model-00015-0.85575-0.66063-0.77635-0.76000.h5\n",
      "Epoch 16/20\n",
      "23/23 [==============================] - 44s 2s/step - loss: 0.8511 - categorical_accuracy: 0.6426 - val_loss: 0.7340 - val_categorical_accuracy: 0.7400\n",
      "\n",
      "Epoch 00016: saving model to model_init_2019-06-2416_13_58.226141/model-00016-0.85491-0.65460-0.73399-0.74000.h5\n",
      "Epoch 17/20\n",
      "23/23 [==============================] - 43s 2s/step - loss: 0.8711 - categorical_accuracy: 0.6855 - val_loss: 0.8422 - val_categorical_accuracy: 0.6700\n",
      "\n",
      "Epoch 00017: saving model to model_init_2019-06-2416_13_58.226141/model-00017-0.85756-0.68627-0.84217-0.67000.h5\n",
      "Epoch 18/20\n",
      "23/23 [==============================] - 43s 2s/step - loss: 0.8129 - categorical_accuracy: 0.6646 - val_loss: 0.7785 - val_categorical_accuracy: 0.7300\n",
      "\n",
      "Epoch 00018: saving model to model_init_2019-06-2416_13_58.226141/model-00018-0.82888-0.65158-0.77855-0.73000.h5\n",
      "\n",
      "Epoch 00018: ReduceLROnPlateau reducing learning rate to 0.0003124999930150807.\n",
      "Epoch 19/20\n",
      "23/23 [==============================] - 44s 2s/step - loss: 0.8511 - categorical_accuracy: 0.6434 - val_loss: 0.7861 - val_categorical_accuracy: 0.7300\n",
      "\n",
      "Epoch 00019: saving model to model_init_2019-06-2416_13_58.226141/model-00019-0.84078-0.64253-0.78609-0.73000.h5\n",
      "Epoch 20/20\n",
      "23/23 [==============================] - 42s 2s/step - loss: 0.8029 - categorical_accuracy: 0.6667 - val_loss: 0.7546 - val_categorical_accuracy: 0.7000\n",
      "\n",
      "Epoch 00020: saving model to model_init_2019-06-2416_13_58.226141/model-00020-0.80829-0.66667-0.75456-0.70000.h5\n",
      "\n",
      "Epoch 00020: ReduceLROnPlateau reducing learning rate to 0.00015624999650754035.\n"
     ]
    }
   ],
   "source": [
    "history=model.fit_generator(train_generator, steps_per_epoch=steps_per_epoch, epochs=num_epochs, verbose=1, \n",
    "                    callbacks=callbacks_list, validation_data=val_generator, \n",
    "                    validation_steps=validation_steps, class_weight=None, workers=1, initial_epoch=0)"
   ]
  },
  {
   "cell_type": "code",
   "execution_count": 51,
   "metadata": {},
   "outputs": [
    {
     "name": "stdout",
     "output_type": "stream",
     "text": [
      "dict_keys(['val_loss', 'val_categorical_accuracy', 'loss', 'categorical_accuracy', 'lr'])\n"
     ]
    },
    {
     "data": {
      "image/png": "[encoded data removed]",
      "text/plain": [
       "<Figure size 432x288 with 1 Axes>"
      ]
     },
     "metadata": {},
     "output_type": "display_data"
    },
    {
     "data": {
      "image/png": "[encoded data removed]",
      "text/plain": [
       "<Figure size 432x288 with 1 Axes>"
      ]
     },
     "metadata": {},
     "output_type": "display_data"
    }
   ],
   "source": [
    "print(history.history.keys())\n",
    "# summarize history for accuracy\n",
    "plt.plot(history.history['categorical_accuracy'])\n",
    "plt.plot(history.history['val_categorical_accuracy'])\n",
    "plt.title('model accuracy')\n",
    "plt.ylabel('accuracy')\n",
    "plt.xlabel('epoch')\n",
    "plt.legend(['train', 'val'], loc='upper left')\n",
    "plt.show()\n",
    "# summarize history for loss\n",
    "plt.plot(history.history['loss'])\n",
    "plt.plot(history.history['val_loss'])\n",
    "plt.title('model loss')\n",
    "plt.ylabel('loss')\n",
    "plt.xlabel('epoch')\n",
    "plt.legend(['train', 'val'], loc='upper left')\n",
    "plt.show()"
   ]
  },
  {
   "cell_type": "markdown",
   "metadata": {},
   "source": [
    "#### Best model this approach \n",
    "###### Train Acc- 67.34 Val Acc=76"
   ]
  },
  {
   "cell_type": "markdown",
   "metadata": {},
   "source": [
    "#### Trying the model With Adam optmizer"
   ]
  },
  {
   "cell_type": "code",
   "execution_count": 52,
   "metadata": {},
   "outputs": [],
   "source": [
    "model = Sequential()\n",
    "model.add(Conv3D(64, kernel_size=(3, 3,3), \n",
    "                 input_shape=(15,120,120,3)))\n",
    "model.add(BatchNormalization())\n",
    "model.add(Activation('relu'))\n",
    "model.add(MaxPooling3D(pool_size=(2, 2,2)))\n",
    "#model.add(Dropout(0.25))\n",
    "\n",
    "model.add(Conv3D(32, kernel_size=(3, 3,3)))\n",
    "model.add(BatchNormalization())\n",
    "model.add(Activation('relu'))\n",
    "\n",
    "model.add(Conv3D(32, kernel_size=(3, 3,3)))\n",
    "model.add(BatchNormalization())\n",
    "model.add(Activation('relu'))\n",
    "model.add(MaxPooling3D(pool_size=(2, 2,2)))\n",
    "model.add(Dropout(0.25))          \n",
    "\n",
    "model.add(Conv3D(32, kernel_size=(1, 3,3)))\n",
    "model.add(BatchNormalization())\n",
    "model.add(Activation('relu'))\n",
    "#model.add(MaxPooling3D(pool_size=(2, 2,2)))\n",
    "model.add(Dropout(0.5))          \n",
    "\n",
    "# flatten and put a fully connected layer\n",
    "model.add(Flatten())\n",
    "model.add(Dense(120, activation='relu')) # fully connected\n",
    "model.add(Dropout(0.5))\n",
    "\n",
    "# softmax layer\n",
    "model.add(Dense(5, activation='softmax'))"
   ]
  },
  {
   "cell_type": "code",
   "execution_count": 53,
   "metadata": {},
   "outputs": [
    {
     "name": "stdout",
     "output_type": "stream",
     "text": [
      "_________________________________________________________________\n",
      "Layer (type)                 Output Shape              Param #   \n",
      "=================================================================\n",
      "conv3d_21 (Conv3D)           (None, 13, 118, 118, 64)  5248      \n",
      "_________________________________________________________________\n",
      "batch_normalization_21 (Batc (None, 13, 118, 118, 64)  256       \n",
      "_________________________________________________________________\n",
      "activation_21 (Activation)   (None, 13, 118, 118, 64)  0         \n",
      "_________________________________________________________________\n",
      "max_pooling3d_11 (MaxPooling (None, 6, 59, 59, 64)     0         \n",
      "_________________________________________________________________\n",
      "conv3d_22 (Conv3D)           (None, 4, 57, 57, 32)     55328     \n",
      "_________________________________________________________________\n",
      "batch_normalization_22 (Batc (None, 4, 57, 57, 32)     128       \n",
      "_________________________________________________________________\n",
      "activation_22 (Activation)   (None, 4, 57, 57, 32)     0         \n",
      "_________________________________________________________________\n",
      "conv3d_23 (Conv3D)           (None, 2, 55, 55, 32)     27680     \n",
      "_________________________________________________________________\n",
      "batch_normalization_23 (Batc (None, 2, 55, 55, 32)     128       \n",
      "_________________________________________________________________\n",
      "activation_23 (Activation)   (None, 2, 55, 55, 32)     0         \n",
      "_________________________________________________________________\n",
      "max_pooling3d_12 (MaxPooling (None, 1, 27, 27, 32)     0         \n",
      "_________________________________________________________________\n",
      "dropout_16 (Dropout)         (None, 1, 27, 27, 32)     0         \n",
      "_________________________________________________________________\n",
      "conv3d_24 (Conv3D)           (None, 1, 25, 25, 32)     9248      \n",
      "_________________________________________________________________\n",
      "batch_normalization_24 (Batc (None, 1, 25, 25, 32)     128       \n",
      "_________________________________________________________________\n",
      "activation_24 (Activation)   (None, 1, 25, 25, 32)     0         \n",
      "_________________________________________________________________\n",
      "dropout_17 (Dropout)         (None, 1, 25, 25, 32)     0         \n",
      "_________________________________________________________________\n",
      "flatten_6 (Flatten)          (None, 20000)             0         \n",
      "_________________________________________________________________\n",
      "dense_11 (Dense)             (None, 120)               2400120   \n",
      "_________________________________________________________________\n",
      "dropout_18 (Dropout)         (None, 120)               0         \n",
      "_________________________________________________________________\n",
      "dense_12 (Dense)             (None, 5)                 605       \n",
      "=================================================================\n",
      "Total params: 2,498,869\n",
      "Trainable params: 2,498,549\n",
      "Non-trainable params: 320\n",
      "_________________________________________________________________\n",
      "None\n"
     ]
    }
   ],
   "source": [
    "optimiser =optimizers.Adam() #write your optimizer #hari(0.01)\n",
    "model.compile(optimizer=optimiser, loss='categorical_crossentropy', metrics=['categorical_accuracy'])\n",
    "print (model.summary())"
   ]
  },
  {
   "cell_type": "code",
   "execution_count": 54,
   "metadata": {},
   "outputs": [
    {
     "name": "stdout",
     "output_type": "stream",
     "text": [
      "# batch_size = 30\n",
      "# epochs = 20\n"
     ]
    }
   ],
   "source": [
    "batch_size=30\n",
    "print ('# batch_size =', batch_size)\n",
    "num_epochs =20 # choose the number of epochs(30)\n",
    "print ('# epochs =', num_epochs)"
   ]
  },
  {
   "cell_type": "markdown",
   "metadata": {},
   "source": [
    "Let us create the `train_generator` and the `val_generator` which will be used in `.fit_generator`."
   ]
  },
  {
   "cell_type": "code",
   "execution_count": 55,
   "metadata": {},
   "outputs": [],
   "source": [
    "train_generator = generator(train_path, train_doc, batch_size)\n",
    "val_generator = generator(val_path, val_doc, batch_size)"
   ]
  },
  {
   "cell_type": "code",
   "execution_count": 56,
   "metadata": {},
   "outputs": [],
   "source": [
    "curr_dt_time = datetime.datetime.now()\n",
    "model_name = 'model_init' + '_' + str(curr_dt_time).replace(' ','').replace(':','_') + '/'\n",
    "    \n",
    "if not os.path.exists(model_name):\n",
    "    os.mkdir(model_name)\n",
    "        \n",
    "filepath = model_name + 'model-{epoch:05d}-{loss:.5f}-{categorical_accuracy:.5f}-{val_loss:.5f}-{val_categorical_accuracy:.5f}.h5'\n",
    "\n",
    "checkpoint = ModelCheckpoint(filepath, monitor='val_loss', verbose=1, save_best_only=False, save_weights_only=False, mode='auto', period=1)\n",
    "\n",
    "#hari\n",
    "LR =keras.callbacks.ReduceLROnPlateau(monitor='val_loss', factor=0.5, patience=2, verbose=1, mode='auto', cooldown=1) # write the REducelronplateau code here\n",
    "callbacks_list = [checkpoint, LR]"
   ]
  },
  {
   "cell_type": "code",
   "execution_count": 57,
   "metadata": {},
   "outputs": [],
   "source": [
    "if (num_train_sequences%batch_size) == 0:\n",
    "    steps_per_epoch = int(num_train_sequences/batch_size)\n",
    "else:\n",
    "    steps_per_epoch = (num_train_sequences//batch_size) + 1\n",
    "\n",
    "if (num_val_sequences%batch_size) == 0:\n",
    "    validation_steps = int(num_val_sequences/batch_size)\n",
    "else:\n",
    "    validation_steps = (num_val_sequences//batch_size) + 1"
   ]
  },
  {
   "cell_type": "code",
   "execution_count": 58,
   "metadata": {},
   "outputs": [
    {
     "name": "stdout",
     "output_type": "stream",
     "text": [
      "Source path =  Project_data/val ; batch size = 30\n",
      "Source path =  Project_data/train ; batch size = 30\n",
      "Epoch 1/20\n"
     ]
    },
    {
     "name": "stderr",
     "output_type": "stream",
     "text": [
      "/mnt/disks/user/anaconda3/lib/python3.6/site-packages/ipykernel_launcher.py:12: DeprecationWarning: `imread` is deprecated!\n",
      "`imread` is deprecated in SciPy 1.0.0, and will be removed in 1.2.0.\n",
      "Use ``imageio.imread`` instead.\n",
      "  if sys.path[0] == '':\n",
      "/mnt/disks/user/anaconda3/lib/python3.6/site-packages/ipykernel_launcher.py:10: DeprecationWarning: `imresize` is deprecated!\n",
      "`imresize` is deprecated in SciPy 1.0.0, and will be removed in 1.2.0.\n",
      "Use ``skimage.transform.resize`` instead.\n",
      "  # Remove the CWD from sys.path while we load stuff.\n",
      "/mnt/disks/user/anaconda3/lib/python3.6/site-packages/ipykernel_launcher.py:12: DeprecationWarning: `imresize` is deprecated!\n",
      "`imresize` is deprecated in SciPy 1.0.0, and will be removed in 1.2.0.\n",
      "Use ``skimage.transform.resize`` instead.\n",
      "  if sys.path[0] == '':\n"
     ]
    },
    {
     "name": "stdout",
     "output_type": "stream",
     "text": [
      "23/23 [==============================] - 49s 2s/step - loss: 2.0658 - categorical_accuracy: 0.2979 - val_loss: 2.2346 - val_categorical_accuracy: 0.1800\n",
      "\n",
      "Epoch 00001: saving model to model_init_2019-06-2416_28_51.361605/model-00001-2.10246-0.28356-2.23459-0.18000.h5\n",
      "Epoch 2/20\n",
      "23/23 [==============================] - 41s 2s/step - loss: 1.3895 - categorical_accuracy: 0.3313 - val_loss: 1.2769 - val_categorical_accuracy: 0.3800\n",
      "\n",
      "Epoch 00002: saving model to model_init_2019-06-2416_28_51.361605/model-00002-1.40126-0.31825-1.27686-0.38000.h5\n",
      "Epoch 3/20\n",
      "23/23 [==============================] - 44s 2s/step - loss: 1.3397 - categorical_accuracy: 0.3424 - val_loss: 1.2111 - val_categorical_accuracy: 0.4500\n",
      "\n",
      "Epoch 00003: saving model to model_init_2019-06-2416_28_51.361605/model-00003-1.33332-0.31674-1.21115-0.45000.h5\n",
      "Epoch 4/20\n",
      "23/23 [==============================] - 44s 2s/step - loss: 1.2809 - categorical_accuracy: 0.4117 - val_loss: 1.1861 - val_categorical_accuracy: 0.4900\n",
      "\n",
      "Epoch 00004: saving model to model_init_2019-06-2416_28_51.361605/model-00004-1.28089-0.41478-1.18609-0.49000.h5\n",
      "Epoch 5/20\n",
      "23/23 [==============================] - 44s 2s/step - loss: 1.3002 - categorical_accuracy: 0.3673 - val_loss: 1.2625 - val_categorical_accuracy: 0.3100\n",
      "\n",
      "Epoch 00005: saving model to model_init_2019-06-2416_28_51.361605/model-00005-1.29315-0.38160-1.26247-0.31000.h5\n",
      "Epoch 6/20\n",
      "23/23 [==============================] - 43s 2s/step - loss: 1.1686 - categorical_accuracy: 0.4387 - val_loss: 1.1547 - val_categorical_accuracy: 0.5700\n",
      "\n",
      "Epoch 00006: saving model to model_init_2019-06-2416_28_51.361605/model-00006-1.17836-0.42986-1.15466-0.57000.h5\n",
      "Epoch 7/20\n",
      "23/23 [==============================] - 43s 2s/step - loss: 1.1994 - categorical_accuracy: 0.4480 - val_loss: 4.1953 - val_categorical_accuracy: 0.3000\n",
      "\n",
      "Epoch 00007: saving model to model_init_2019-06-2416_28_51.361605/model-00007-1.16465-0.45249-4.19531-0.30000.h5\n",
      "Epoch 8/20\n",
      "23/23 [==============================] - 44s 2s/step - loss: 1.0891 - categorical_accuracy: 0.4750 - val_loss: 2.8336 - val_categorical_accuracy: 0.2900\n",
      "\n",
      "Epoch 00008: saving model to model_init_2019-06-2416_28_51.361605/model-00008-1.11094-0.46757-2.83358-0.29000.h5\n",
      "\n",
      "Epoch 00008: ReduceLROnPlateau reducing learning rate to 0.0005000000237487257.\n",
      "Epoch 9/20\n",
      "23/23 [==============================] - 43s 2s/step - loss: 1.1097 - categorical_accuracy: 0.4808 - val_loss: 1.1609 - val_categorical_accuracy: 0.5300\n",
      "\n",
      "Epoch 00009: saving model to model_init_2019-06-2416_28_51.361605/model-00009-1.08327-0.47360-1.16089-0.53000.h5\n",
      "Epoch 10/20\n",
      "23/23 [==============================] - 43s 2s/step - loss: 1.1011 - categorical_accuracy: 0.4771 - val_loss: 1.5077 - val_categorical_accuracy: 0.4500\n",
      "\n",
      "Epoch 00010: saving model to model_init_2019-06-2416_28_51.361605/model-00010-1.10027-0.48265-1.50772-0.45000.h5\n",
      "\n",
      "Epoch 00010: ReduceLROnPlateau reducing learning rate to 0.0002500000118743628.\n",
      "Epoch 11/20\n",
      "23/23 [==============================] - 44s 2s/step - loss: 1.0464 - categorical_accuracy: 0.4867 - val_loss: 1.2469 - val_categorical_accuracy: 0.5100\n",
      "\n",
      "Epoch 00011: saving model to model_init_2019-06-2416_28_51.361605/model-00011-1.04427-0.47964-1.24690-0.51000.h5\n",
      "Epoch 12/20\n",
      "23/23 [==============================] - 43s 2s/step - loss: 1.0676 - categorical_accuracy: 0.4756 - val_loss: 0.9476 - val_categorical_accuracy: 0.6600\n",
      "\n",
      "Epoch 00012: saving model to model_init_2019-06-2416_28_51.361605/model-00012-1.05296-0.48115-0.94755-0.66000.h5\n",
      "Epoch 13/20\n",
      "23/23 [==============================] - 44s 2s/step - loss: 0.9796 - categorical_accuracy: 0.5206 - val_loss: 0.9907 - val_categorical_accuracy: 0.6200\n",
      "\n",
      "Epoch 00014: saving model to model_init_2019-06-2416_28_51.361605/model-00014-0.98369-0.52790-0.99072-0.62000.h5\n",
      "Epoch 15/20\n",
      "23/23 [==============================] - 44s 2s/step - loss: 0.9904 - categorical_accuracy: 0.4849 - val_loss: 1.2629 - val_categorical_accuracy: 0.5400\n",
      "\n",
      "Epoch 00015: saving model to model_init_2019-06-2416_28_51.361605/model-00015-0.97989-0.50377-1.26290-0.54000.h5\n",
      "\n",
      "Epoch 00015: ReduceLROnPlateau reducing learning rate to 0.0001250000059371814.\n",
      "Epoch 16/20\n",
      "23/23 [==============================] - 43s 2s/step - loss: 1.0079 - categorical_accuracy: 0.5168 - val_loss: 1.1135 - val_categorical_accuracy: 0.5900\n",
      "\n",
      "Epoch 00016: saving model to model_init_2019-06-2416_28_51.361605/model-00016-0.95413-0.53695-1.11354-0.59000.h5\n",
      "Epoch 17/20\n",
      "23/23 [==============================] - 43s 2s/step - loss: 0.9747 - categorical_accuracy: 0.4959 - val_loss: 1.0796 - val_categorical_accuracy: 0.6100\n",
      "\n",
      "Epoch 00017: saving model to model_init_2019-06-2416_28_51.361605/model-00017-0.98438-0.50226-1.07961-0.61000.h5\n",
      "\n",
      "Epoch 00017: ReduceLROnPlateau reducing learning rate to 6.25000029685907e-05.\n",
      "Epoch 18/20\n",
      "23/23 [==============================] - 43s 2s/step - loss: 0.9536 - categorical_accuracy: 0.5200 - val_loss: 1.0046 - val_categorical_accuracy: 0.6000\n",
      "\n",
      "Epoch 00018: saving model to model_init_2019-06-2416_28_51.361605/model-00018-0.96025-0.51433-1.00455-0.60000.h5\n",
      "Epoch 19/20\n",
      "23/23 [==============================] - 43s 2s/step - loss: 0.9673 - categorical_accuracy: 0.5168 - val_loss: 0.9690 - val_categorical_accuracy: 0.6300\n",
      "\n",
      "Epoch 00019: saving model to model_init_2019-06-2416_28_51.361605/model-00019-0.92426-0.53695-0.96903-0.63000.h5\n",
      "\n",
      "Epoch 00019: ReduceLROnPlateau reducing learning rate to 3.125000148429535e-05.\n",
      "Epoch 20/20\n",
      "23/23 [==============================] - 43s 2s/step - loss: 0.9827 - categorical_accuracy: 0.4834 - val_loss: 0.9257 - val_categorical_accuracy: 0.6500\n",
      "\n",
      "Epoch 00020: saving model to model_init_2019-06-2416_28_51.361605/model-00020-0.94698-0.50226-0.92566-0.65000.h5\n"
     ]
    }
   ],
   "source": [
    "history=model.fit_generator(train_generator, steps_per_epoch=steps_per_epoch, epochs=num_epochs, verbose=1, \n",
    "                    callbacks=callbacks_list, validation_data=val_generator, \n",
    "                    validation_steps=validation_steps, class_weight=None, workers=1, initial_epoch=0)"
   ]
  },
  {
   "cell_type": "code",
   "execution_count": 59,
   "metadata": {},
   "outputs": [
    {
     "name": "stdout",
     "output_type": "stream",
     "text": [
      "dict_keys(['val_loss', 'val_categorical_accuracy', 'loss', 'categorical_accuracy', 'lr'])\n"
     ]
    },
    {
     "data": {
      "image/png": "[encoded data removed]",
      "text/plain": [
       "<Figure size 432x288 with 1 Axes>"
      ]
     },
     "metadata": {},
     "output_type": "display_data"
    },
    {
     "data": {
      "image/png": "[encoded data removed]",
      "text/plain": [
       "<Figure size 432x288 with 1 Axes>"
      ]
     },
     "metadata": {},
     "output_type": "display_data"
    }
   ],
   "source": [
    "print(history.history.keys())\n",
    "# summarize history for accuracy\n",
    "plt.plot(history.history['categorical_accuracy'])\n",
    "plt.plot(history.history['val_categorical_accuracy'])\n",
    "plt.title('model accuracy')\n",
    "plt.ylabel('accuracy')\n",
    "plt.xlabel('epoch')\n",
    "plt.legend(['train', 'val'], loc='upper left')\n",
    "plt.show()\n",
    "# summarize history for loss\n",
    "plt.plot(history.history['loss'])\n",
    "plt.plot(history.history['val_loss'])\n",
    "plt.title('model loss')\n",
    "plt.ylabel('loss')\n",
    "plt.xlabel('epoch')\n",
    "plt.legend(['train', 'val'], loc='upper left')\n",
    "plt.show()"
   ]
  },
  {
   "cell_type": "markdown",
   "metadata": {},
   "source": [
    "#### Best model this approach \n",
    "###### Train Acc- 47.56 Val Acc=66"
   ]
  },
  {
   "cell_type": "markdown",
   "metadata": {},
   "source": [
    "### CNN- RNN Model\n",
    "\n",
    "### using GRU model"
   ]
  },
  {
   "cell_type": "code",
   "execution_count": 60,
   "metadata": {},
   "outputs": [],
   "source": [
    "from keras.layers.convolutional import Conv2D,MaxPooling2D\n",
    "from keras.layers import LSTM, GRU\n",
    "model = Sequential()\n",
    "model.add(TimeDistributed(Conv2D(8, (3,3), padding='same'),input_shape=(15, 120, 120, 3)))\n",
    "model.add(TimeDistributed(BatchNormalization()))\n",
    "model.add(TimeDistributed(MaxPooling2D(pool_size=(2, 2))))\n",
    "model.add(TimeDistributed(Dropout(0.50)))\n",
    "\n",
    "model.add(TimeDistributed(Conv2D(16, (3,3))))\n",
    "model.add(TimeDistributed(BatchNormalization()))\n",
    "model.add(TimeDistributed(MaxPooling2D(pool_size=(2, 2))))\n",
    "model.add(TimeDistributed(Dropout(0.50)))\n",
    "\n",
    "model.add(TimeDistributed(Flatten()))\n",
    "model.add(GRU(120, return_sequences= True))\n",
    "model.add(Flatten())\n",
    "model.add(Dense(5, activation='softmax'))"
   ]
  },
  {
   "cell_type": "markdown",
   "metadata": {},
   "source": [
    "Now that you have written the model, the next step is to `compile` the model. When you print the `summary` of the model, you'll see the total number of parameters you have to train."
   ]
  },
  {
   "cell_type": "code",
   "execution_count": 61,
   "metadata": {
    "scrolled": true
   },
   "outputs": [
    {
     "name": "stdout",
     "output_type": "stream",
     "text": [
      "_________________________________________________________________\n",
      "Layer (type)                 Output Shape              Param #   \n",
      "=================================================================\n",
      "time_distributed_1 (TimeDist (None, 15, 120, 120, 8)   224       \n",
      "_________________________________________________________________\n",
      "time_distributed_2 (TimeDist (None, 15, 120, 120, 8)   32        \n",
      "_________________________________________________________________\n",
      "time_distributed_3 (TimeDist (None, 15, 60, 60, 8)     0         \n",
      "_________________________________________________________________\n",
      "time_distributed_4 (TimeDist (None, 15, 60, 60, 8)     0         \n",
      "_________________________________________________________________\n",
      "time_distributed_5 (TimeDist (None, 15, 58, 58, 16)    1168      \n",
      "_________________________________________________________________\n",
      "time_distributed_6 (TimeDist (None, 15, 58, 58, 16)    64        \n",
      "_________________________________________________________________\n",
      "time_distributed_7 (TimeDist (None, 15, 29, 29, 16)    0         \n",
      "_________________________________________________________________\n",
      "time_distributed_8 (TimeDist (None, 15, 29, 29, 16)    0         \n",
      "_________________________________________________________________\n",
      "time_distributed_9 (TimeDist (None, 15, 13456)         0         \n",
      "_________________________________________________________________\n",
      "gru_1 (GRU)                  (None, 15, 120)           4887720   \n",
      "_________________________________________________________________\n",
      "flatten_8 (Flatten)          (None, 1800)              0         \n",
      "_________________________________________________________________\n",
      "dense_13 (Dense)             (None, 5)                 9005      \n",
      "=================================================================\n",
      "Total params: 4,898,213\n",
      "Trainable params: 4,898,165\n",
      "Non-trainable params: 48\n",
      "_________________________________________________________________\n",
      "None\n"
     ]
    }
   ],
   "source": [
    "optimiser =optimizers.SGD(lr=0.01) #write your optimizer #hari(0.01)\n",
    "model.compile(optimizer=optimiser, loss='categorical_crossentropy', metrics=['categorical_accuracy'])\n",
    "print (model.summary())"
   ]
  },
  {
   "cell_type": "markdown",
   "metadata": {},
   "source": [
    "Let us create the `train_generator` and the `val_generator` which will be used in `.fit_generator`."
   ]
  },
  {
   "cell_type": "code",
   "execution_count": 62,
   "metadata": {},
   "outputs": [
    {
     "name": "stdout",
     "output_type": "stream",
     "text": [
      "# batch_size = 30\n",
      "# epochs = 20\n"
     ]
    }
   ],
   "source": [
    "batch_size=30\n",
    "print ('# batch_size =', batch_size)\n",
    "num_epochs =20 # choose the number of epochs(30)\n",
    "print ('# epochs =', num_epochs)"
   ]
  },
  {
   "cell_type": "code",
   "execution_count": 63,
   "metadata": {},
   "outputs": [],
   "source": [
    "train_generator = generator(train_path, train_doc, batch_size)\n",
    "val_generator = generator(val_path, val_doc, batch_size)"
   ]
  },
  {
   "cell_type": "code",
   "execution_count": 64,
   "metadata": {},
   "outputs": [],
   "source": [
    "model_name = 'model_init' + '_' + str(curr_dt_time).replace(' ','').replace(':','_') + '/'\n",
    "    \n",
    "if not os.path.exists(model_name):\n",
    "    os.mkdir(model_name)\n",
    "        \n",
    "filepath = model_name + 'model-{epoch:05d}-{loss:.5f}-{categorical_accuracy:.5f}-{val_loss:.5f}-{val_categorical_accuracy:.5f}.h5'\n",
    "\n",
    "checkpoint = ModelCheckpoint(filepath, monitor='val_loss', verbose=1, save_best_only=False, save_weights_only=False, mode='auto', period=1)\n",
    "\n",
    "#hari\n",
    "LR =keras.callbacks.ReduceLROnPlateau(monitor='val_loss', factor=0.1, patience=10, verbose=0, mode='auto', min_delta=0.0001, cooldown=0, min_lr=0) # write the REducelronplateau code here\n",
    "callbacks_list = [checkpoint, LR]"
   ]
  },
  {
   "cell_type": "markdown",
   "metadata": {},
   "source": [
    "The `steps_per_epoch` and `validation_steps` are used by `fit_generator` to decide the number of next() calls it need to make."
   ]
  },
  {
   "cell_type": "code",
   "execution_count": 65,
   "metadata": {},
   "outputs": [],
   "source": [
    "if (num_train_sequences%batch_size) == 0:\n",
    "    steps_per_epoch = int(num_train_sequences/batch_size)\n",
    "else:\n",
    "    steps_per_epoch = (num_train_sequences//batch_size) + 1\n",
    "\n",
    "if (num_val_sequences%batch_size) == 0:\n",
    "    validation_steps = int(num_val_sequences/batch_size)\n",
    "else:\n",
    "    validation_steps = (num_val_sequences//batch_size) + 1"
   ]
  },
  {
   "cell_type": "markdown",
   "metadata": {},
   "source": [
    "Let us now fit the model. This will start training the model and with the help of the checkpoints, you'll be able to save the model at the end of each epoch."
   ]
  },
  {
   "cell_type": "code",
   "execution_count": 66,
   "metadata": {},
   "outputs": [
    {
     "name": "stdout",
     "output_type": "stream",
     "text": [
      "Source path =  Project_data/val ; batch size = 30\n",
      "Source path =  Project_data/train ; batch size = 30\n",
      "Epoch 1/20\n"
     ]
    },
    {
     "name": "stderr",
     "output_type": "stream",
     "text": [
      "/mnt/disks/user/anaconda3/lib/python3.6/site-packages/ipykernel_launcher.py:12: DeprecationWarning: `imread` is deprecated!\n",
      "`imread` is deprecated in SciPy 1.0.0, and will be removed in 1.2.0.\n",
      "Use ``imageio.imread`` instead.\n",
      "  if sys.path[0] == '':\n",
      "/mnt/disks/user/anaconda3/lib/python3.6/site-packages/ipykernel_launcher.py:10: DeprecationWarning: `imresize` is deprecated!\n",
      "`imresize` is deprecated in SciPy 1.0.0, and will be removed in 1.2.0.\n",
      "Use ``skimage.transform.resize`` instead.\n",
      "  # Remove the CWD from sys.path while we load stuff.\n",
      "/mnt/disks/user/anaconda3/lib/python3.6/site-packages/ipykernel_launcher.py:12: DeprecationWarning: `imresize` is deprecated!\n",
      "`imresize` is deprecated in SciPy 1.0.0, and will be removed in 1.2.0.\n",
      "Use ``skimage.transform.resize`` instead.\n",
      "  if sys.path[0] == '':\n"
     ]
    },
    {
     "name": "stdout",
     "output_type": "stream",
     "text": [
      "23/23 [==============================] - 47s 2s/step - loss: 2.2851 - categorical_accuracy: 0.2230 - val_loss: 1.6975 - val_categorical_accuracy: 0.3700\n",
      "\n",
      "Epoch 00001: saving model to model_init_2019-06-2416_28_51.361605/model-00001-2.31188-0.21870-1.69746-0.37000.h5\n",
      "Epoch 2/20\n",
      "23/23 [==============================] - 39s 2s/step - loss: 1.6142 - categorical_accuracy: 0.3542 - val_loss: 1.3219 - val_categorical_accuracy: 0.4700\n",
      "\n",
      "Epoch 00002: saving model to model_init_2019-06-2416_28_51.361605/model-00002-1.57582-0.36802-1.32191-0.47000.h5\n",
      "Epoch 3/20\n",
      "23/23 [==============================] - 42s 2s/step - loss: 1.4269 - categorical_accuracy: 0.4504 - val_loss: 1.5253 - val_categorical_accuracy: 0.3900\n",
      "\n",
      "Epoch 00003: saving model to model_init_2019-06-2416_28_51.361605/model-00003-1.43429-0.44193-1.52525-0.39000.h5\n",
      "Epoch 4/20\n",
      "23/23 [==============================] - 41s 2s/step - loss: 1.1309 - categorical_accuracy: 0.5409 - val_loss: 2.3554 - val_categorical_accuracy: 0.2900\n",
      "\n",
      "Epoch 00004: saving model to model_init_2019-06-2416_28_51.361605/model-00004-1.12909-0.54902-2.35538-0.29000.h5\n",
      "Epoch 5/20\n",
      "23/23 [==============================] - 41s 2s/step - loss: 1.0466 - categorical_accuracy: 0.5912 - val_loss: 1.4407 - val_categorical_accuracy: 0.3900\n",
      "\n",
      "Epoch 00005: saving model to model_init_2019-06-2416_28_51.361605/model-00005-1.06500-0.58824-1.44067-0.39000.h5\n",
      "Epoch 6/20\n",
      "23/23 [==============================] - 41s 2s/step - loss: 0.8411 - categorical_accuracy: 0.6676 - val_loss: 1.8773 - val_categorical_accuracy: 0.4300\n",
      "\n",
      "Epoch 00007: saving model to model_init_2019-06-2416_28_51.361605/model-00007-0.85949-0.65460-1.87731-0.43000.h5\n",
      "Epoch 8/20\n",
      "23/23 [==============================] - 41s 2s/step - loss: 0.7214 - categorical_accuracy: 0.7242 - val_loss: 1.4293 - val_categorical_accuracy: 0.5600\n",
      "\n",
      "Epoch 00008: saving model to model_init_2019-06-2416_28_51.361605/model-00008-0.73632-0.71342-1.42930-0.56000.h5\n",
      "Epoch 9/20\n",
      "23/23 [==============================] - 42s 2s/step - loss: 0.6000 - categorical_accuracy: 0.7645 - val_loss: 2.1223 - val_categorical_accuracy: 0.4600\n",
      "\n",
      "Epoch 00009: saving model to model_init_2019-06-2416_28_51.361605/model-00009-0.58861-0.78130-2.12227-0.46000.h5\n",
      "Epoch 10/20\n",
      "23/23 [==============================] - 41s 2s/step - loss: 0.5542 - categorical_accuracy: 0.8040 - val_loss: 2.2144 - val_categorical_accuracy: 0.4700\n",
      "\n",
      "Epoch 00010: saving model to model_init_2019-06-2416_28_51.361605/model-00010-0.56394-0.79638-2.21439-0.47000.h5\n",
      "Epoch 11/20\n",
      "23/23 [==============================] - 41s 2s/step - loss: 0.5046 - categorical_accuracy: 0.8191 - val_loss: 1.5745 - val_categorical_accuracy: 0.5100\n",
      "\n",
      "Epoch 00011: saving model to model_init_2019-06-2416_28_51.361605/model-00011-0.49499-0.82504-1.57450-0.51000.h5\n",
      "Epoch 12/20\n",
      "23/23 [==============================] - 41s 2s/step - loss: 0.4043 - categorical_accuracy: 0.8722 - val_loss: 2.7203 - val_categorical_accuracy: 0.4500\n",
      "\n",
      "Epoch 00012: saving model to model_init_2019-06-2416_28_51.361605/model-00012-0.41548-0.86727-2.72031-0.45000.h5\n",
      "Epoch 13/20\n",
      "23/23 [==============================] - 40s 2s/step - loss: 0.2974 - categorical_accuracy: 0.9231 - val_loss: 1.7390 - val_categorical_accuracy: 0.5100\n",
      "\n",
      "Epoch 00013: saving model to model_init_2019-06-2416_28_51.361605/model-00013-0.30599-0.92006-1.73905-0.51000.h5\n",
      "Epoch 14/20\n",
      "23/23 [==============================] - 41s 2s/step - loss: 0.2598 - categorical_accuracy: 0.9434 - val_loss: 1.6166 - val_categorical_accuracy: 0.5500\n",
      "\n",
      "Epoch 00014: saving model to model_init_2019-06-2416_28_51.361605/model-00014-0.26367-0.94118-1.61658-0.55000.h5\n",
      "Epoch 15/20\n",
      "23/23 [==============================] - 41s 2s/step - loss: 0.2608 - categorical_accuracy: 0.9332 - val_loss: 1.8448 - val_categorical_accuracy: 0.5000\n",
      "\n",
      "Epoch 00015: saving model to model_init_2019-06-2416_28_51.361605/model-00015-0.26188-0.93062-1.84484-0.50000.h5\n",
      "Epoch 16/20\n",
      "23/23 [==============================] - 41s 2s/step - loss: 0.2485 - categorical_accuracy: 0.9550 - val_loss: 1.5968 - val_categorical_accuracy: 0.5300\n",
      "\n",
      "Epoch 00016: saving model to model_init_2019-06-2416_28_51.361605/model-00016-0.25343-0.95324-1.59679-0.53000.h5\n",
      "Epoch 17/20\n",
      "23/23 [==============================] - 42s 2s/step - loss: 0.2488 - categorical_accuracy: 0.9434 - val_loss: 1.6393 - val_categorical_accuracy: 0.5600\n",
      "\n",
      "Epoch 00017: saving model to model_init_2019-06-2416_28_51.361605/model-00017-0.24108-0.94118-1.63933-0.56000.h5\n",
      "Epoch 18/20\n",
      "23/23 [==============================] - 41s 2s/step - loss: 0.2368 - categorical_accuracy: 0.9419 - val_loss: 1.5734 - val_categorical_accuracy: 0.5200\n",
      "\n",
      "Epoch 00018: saving model to model_init_2019-06-2416_28_51.361605/model-00018-0.24238-0.93967-1.57340-0.52000.h5\n",
      "Epoch 19/20\n",
      "23/23 [==============================] - 42s 2s/step - loss: 0.2225 - categorical_accuracy: 0.9564 - val_loss: 1.4690 - val_categorical_accuracy: 0.5900\n",
      "\n",
      "Epoch 00019: saving model to model_init_2019-06-2416_28_51.361605/model-00019-0.22885-0.95475-1.46898-0.59000.h5\n",
      "Epoch 20/20\n",
      "23/23 [==============================] - 42s 2s/step - loss: 0.2448 - categorical_accuracy: 0.9434 - val_loss: 1.5649 - val_categorical_accuracy: 0.5600\n",
      "\n",
      "Epoch 00020: saving model to model_init_2019-06-2416_28_51.361605/model-00020-0.24202-0.94118-1.56494-0.56000.h5\n"
     ]
    }
   ],
   "source": [
    "history=model.fit_generator(train_generator, steps_per_epoch=steps_per_epoch, epochs=num_epochs, verbose=1, \n",
    "                    callbacks=callbacks_list, validation_data=val_generator, \n",
    "                    validation_steps=validation_steps, class_weight=None, workers=1, initial_epoch=0)"
   ]
  },
  {
   "cell_type": "code",
   "execution_count": 67,
   "metadata": {},
   "outputs": [
    {
     "data": {
      "text/plain": [
       "dict_keys(['val_loss', 'val_categorical_accuracy', 'loss', 'categorical_accuracy', 'lr'])"
      ]
     },
     "execution_count": 67,
     "metadata": {},
     "output_type": "execute_result"
    }
   ],
   "source": [
    "history.history.keys()"
   ]
  },
  {
   "cell_type": "code",
   "execution_count": 68,
   "metadata": {},
   "outputs": [
    {
     "name": "stdout",
     "output_type": "stream",
     "text": [
      "dict_keys(['val_loss', 'val_categorical_accuracy', 'loss', 'categorical_accuracy', 'lr'])\n"
     ]
    },
    {
     "data": {
      "image/png": "[encoded data removed]",
      "text/plain": [
       "<Figure size 432x288 with 1 Axes>"
      ]
     },
     "metadata": {},
     "output_type": "display_data"
    },
    {
     "data": {
      "image/png": "[encoded data removed]",
      "text/plain": [
       "<Figure size 432x288 with 1 Axes>"
      ]
     },
     "metadata": {},
     "output_type": "display_data"
    }
   ],
   "source": [
    "\n",
    "\n",
    "### list all data in history\n",
    "print(history.history.keys())\n",
    "# summarize history for accuracy\n",
    "plt.plot(history.history['categorical_accuracy'])\n",
    "plt.plot(history.history['val_categorical_accuracy'])\n",
    "plt.title('model accuracy')\n",
    "plt.ylabel('accuracy')\n",
    "plt.xlabel('epoch')\n",
    "plt.legend(['train', 'val'], loc='upper left')\n",
    "plt.show()\n",
    "# summarize history for loss\n",
    "plt.plot(history.history['loss'])\n",
    "plt.plot(history.history['val_loss'])\n",
    "plt.title('model loss')\n",
    "plt.ylabel('loss')\n",
    "plt.xlabel('epoch')\n",
    "plt.legend(['train', 'val'], loc='upper left')\n",
    "plt.show()"
   ]
  },
  {
   "cell_type": "markdown",
   "metadata": {},
   "source": [
    "#### Best model this approach \n",
    "###### Train Acc- 95.64 Val Acc=59"
   ]
  },
  {
   "cell_type": "markdown",
   "metadata": {},
   "source": [
    "### Using LSTM"
   ]
  },
  {
   "cell_type": "code",
   "execution_count": 70,
   "metadata": {},
   "outputs": [],
   "source": [
    "\n",
    "model = Sequential()\n",
    "model.add(TimeDistributed(Conv2D(8, (3,3), padding='same'),input_shape=(15, 120, 120, 3)))\n",
    "model.add(TimeDistributed(BatchNormalization()))\n",
    "model.add(TimeDistributed(MaxPooling2D(pool_size=(2, 2))))\n",
    "model.add(TimeDistributed(Dropout(0.50)))\n",
    "\n",
    "model.add(TimeDistributed(Conv2D(16, (3,3))))\n",
    "model.add(TimeDistributed(BatchNormalization()))\n",
    "model.add(TimeDistributed(MaxPooling2D(pool_size=(2, 2))))\n",
    "model.add(TimeDistributed(Dropout(0.50)))\n",
    "\n",
    "model.add(TimeDistributed(Flatten()))\n",
    "model.add(LSTM(120, return_sequences= True))\n",
    "model.add(Flatten())\n",
    "model.add(Dense(5, activation='softmax'))"
   ]
  },
  {
   "cell_type": "markdown",
   "metadata": {},
   "source": [
    "Now that you have written the model, the next step is to `compile` the model. When you print the `summary` of the model, you'll see the total number of parameters you have to train."
   ]
  },
  {
   "cell_type": "code",
   "execution_count": 71,
   "metadata": {
    "scrolled": true
   },
   "outputs": [
    {
     "name": "stdout",
     "output_type": "stream",
     "text": [
      "_________________________________________________________________\n",
      "Layer (type)                 Output Shape              Param #   \n",
      "=================================================================\n",
      "time_distributed_10 (TimeDis (None, 15, 120, 120, 8)   224       \n",
      "_________________________________________________________________\n",
      "time_distributed_11 (TimeDis (None, 15, 120, 120, 8)   32        \n",
      "_________________________________________________________________\n",
      "time_distributed_12 (TimeDis (None, 15, 60, 60, 8)     0         \n",
      "_________________________________________________________________\n",
      "time_distributed_13 (TimeDis (None, 15, 60, 60, 8)     0         \n",
      "_________________________________________________________________\n",
      "time_distributed_14 (TimeDis (None, 15, 58, 58, 16)    1168      \n",
      "_________________________________________________________________\n",
      "time_distributed_15 (TimeDis (None, 15, 58, 58, 16)    64        \n",
      "_________________________________________________________________\n",
      "time_distributed_16 (TimeDis (None, 15, 29, 29, 16)    0         \n",
      "_________________________________________________________________\n",
      "time_distributed_17 (TimeDis (None, 15, 29, 29, 16)    0         \n",
      "_________________________________________________________________\n",
      "time_distributed_18 (TimeDis (None, 15, 13456)         0         \n",
      "_________________________________________________________________\n",
      "lstm_1 (LSTM)                (None, 15, 120)           6516960   \n",
      "_________________________________________________________________\n",
      "flatten_10 (Flatten)         (None, 1800)              0         \n",
      "_________________________________________________________________\n",
      "dense_14 (Dense)             (None, 5)                 9005      \n",
      "=================================================================\n",
      "Total params: 6,527,453\n",
      "Trainable params: 6,527,405\n",
      "Non-trainable params: 48\n",
      "_________________________________________________________________\n",
      "None\n"
     ]
    }
   ],
   "source": [
    "optimiser =optimizers.SGD(lr=0.01) #write your optimizer #hari(0.01)\n",
    "model.compile(optimizer=optimiser, loss='categorical_crossentropy', metrics=['categorical_accuracy'])\n",
    "print (model.summary())"
   ]
  },
  {
   "cell_type": "markdown",
   "metadata": {},
   "source": [
    "Let us create the `train_generator` and the `val_generator` which will be used in `.fit_generator`."
   ]
  },
  {
   "cell_type": "code",
   "execution_count": 72,
   "metadata": {},
   "outputs": [
    {
     "name": "stdout",
     "output_type": "stream",
     "text": [
      "# batch_size = 30\n",
      "# epochs = 20\n"
     ]
    }
   ],
   "source": [
    "batch_size=30\n",
    "print ('# batch_size =', batch_size)\n",
    "num_epochs =20 # choose the number of epochs(30)\n",
    "print ('# epochs =', num_epochs)"
   ]
  },
  {
   "cell_type": "code",
   "execution_count": 73,
   "metadata": {},
   "outputs": [],
   "source": [
    "train_generator = generator(train_path, train_doc, batch_size)\n",
    "val_generator = generator(val_path, val_doc, batch_size)"
   ]
  },
  {
   "cell_type": "code",
   "execution_count": 74,
   "metadata": {},
   "outputs": [],
   "source": [
    "model_name = 'model_init' + '_' + str(curr_dt_time).replace(' ','').replace(':','_') + '/'\n",
    "    \n",
    "if not os.path.exists(model_name):\n",
    "    os.mkdir(model_name)\n",
    "        \n",
    "filepath = model_name + 'model-{epoch:05d}-{loss:.5f}-{categorical_accuracy:.5f}-{val_loss:.5f}-{val_categorical_accuracy:.5f}.h5'\n",
    "\n",
    "checkpoint = ModelCheckpoint(filepath, monitor='val_loss', verbose=1, save_best_only=False, save_weights_only=False, mode='auto', period=1)\n",
    "\n",
    "#hari\n",
    "LR =keras.callbacks.ReduceLROnPlateau(monitor='val_loss', factor=0.1, patience=10, verbose=0, mode='auto', min_delta=0.0001, cooldown=0, min_lr=0) # write the REducelronplateau code here\n",
    "callbacks_list = [checkpoint, LR]"
   ]
  },
  {
   "cell_type": "markdown",
   "metadata": {},
   "source": [
    "The `steps_per_epoch` and `validation_steps` are used by `fit_generator` to decide the number of next() calls it need to make."
   ]
  },
  {
   "cell_type": "code",
   "execution_count": 75,
   "metadata": {},
   "outputs": [],
   "source": [
    "if (num_train_sequences%batch_size) == 0:\n",
    "    steps_per_epoch = int(num_train_sequences/batch_size)\n",
    "else:\n",
    "    steps_per_epoch = (num_train_sequences//batch_size) + 1\n",
    "\n",
    "if (num_val_sequences%batch_size) == 0:\n",
    "    validation_steps = int(num_val_sequences/batch_size)\n",
    "else:\n",
    "    validation_steps = (num_val_sequences//batch_size) + 1"
   ]
  },
  {
   "cell_type": "markdown",
   "metadata": {},
   "source": [
    "Let us now fit the model. This will start training the model and with the help of the checkpoints, you'll be able to save the model at the end of each epoch."
   ]
  },
  {
   "cell_type": "code",
   "execution_count": 76,
   "metadata": {},
   "outputs": [
    {
     "name": "stdout",
     "output_type": "stream",
     "text": [
      "Source path = Source path =  Project_data/train ; batch size = 30\n",
      " Project_data/val Epoch 1/20\n",
      "; batch size = 30\n"
     ]
    },
    {
     "name": "stderr",
     "output_type": "stream",
     "text": [
      "/mnt/disks/user/anaconda3/lib/python3.6/site-packages/ipykernel_launcher.py:12: DeprecationWarning: `imread` is deprecated!\n",
      "`imread` is deprecated in SciPy 1.0.0, and will be removed in 1.2.0.\n",
      "Use ``imageio.imread`` instead.\n",
      "  if sys.path[0] == '':\n",
      "/mnt/disks/user/anaconda3/lib/python3.6/site-packages/ipykernel_launcher.py:10: DeprecationWarning: `imresize` is deprecated!\n",
      "`imresize` is deprecated in SciPy 1.0.0, and will be removed in 1.2.0.\n",
      "Use ``skimage.transform.resize`` instead.\n",
      "  # Remove the CWD from sys.path while we load stuff.\n",
      "/mnt/disks/user/anaconda3/lib/python3.6/site-packages/ipykernel_launcher.py:12: DeprecationWarning: `imresize` is deprecated!\n",
      "`imresize` is deprecated in SciPy 1.0.0, and will be removed in 1.2.0.\n",
      "Use ``skimage.transform.resize`` instead.\n",
      "  if sys.path[0] == '':\n"
     ]
    },
    {
     "name": "stdout",
     "output_type": "stream",
     "text": [
      "23/23 [==============================] - 47s 2s/step - loss: 1.6086 - categorical_accuracy: 0.2593 - val_loss: 1.4533 - val_categorical_accuracy: 0.3900\n",
      "\n",
      "Epoch 00001: saving model to model_init_2019-06-2416_28_51.361605/model-00001-1.62257-0.25641-1.45335-0.39000.h5\n",
      "Epoch 2/20\n",
      "23/23 [==============================] - 41s 2s/step - loss: 1.2164 - categorical_accuracy: 0.5282 - val_loss: 1.5423 - val_categorical_accuracy: 0.4400\n",
      "\n",
      "Epoch 00004: saving model to model_init_2019-06-2416_28_51.361605/model-00004-1.23634-0.50980-1.54226-0.44000.h5\n",
      "Epoch 5/20\n",
      "23/23 [==============================] - 42s 2s/step - loss: 1.1144 - categorical_accuracy: 0.5520 - val_loss: 1.6976 - val_categorical_accuracy: 0.3800\n",
      "\n",
      "Epoch 00005: saving model to model_init_2019-06-2416_28_51.361605/model-00005-1.11911-0.54751-1.69761-0.38000.h5\n",
      "Epoch 6/20\n",
      "23/23 [==============================] - 42s 2s/step - loss: 1.0523 - categorical_accuracy: 0.5781 - val_loss: 1.7832 - val_categorical_accuracy: 0.3100\n",
      "\n",
      "Epoch 00006: saving model to model_init_2019-06-2416_28_51.361605/model-00006-1.06721-0.57466-1.78320-0.31000.h5\n",
      "Epoch 7/20\n",
      "23/23 [==============================] - 41s 2s/step - loss: 1.0212 - categorical_accuracy: 0.6106 - val_loss: 2.2049 - val_categorical_accuracy: 0.3400\n",
      "\n",
      "Epoch 00007: saving model to model_init_2019-06-2416_28_51.361605/model-00007-1.01737-0.62142-2.20486-0.34000.h5\n",
      "Epoch 8/20\n",
      "23/23 [==============================] - 41s 2s/step - loss: 0.9055 - categorical_accuracy: 0.6472 - val_loss: 1.3063 - val_categorical_accuracy: 0.5100\n",
      "\n",
      "Epoch 00008: saving model to model_init_2019-06-2416_28_51.361605/model-00008-0.92364-0.63348-1.30630-0.51000.h5\n",
      "Epoch 9/20\n",
      "23/23 [==============================] - 42s 2s/step - loss: 0.7830 - categorical_accuracy: 0.7102 - val_loss: 1.9997 - val_categorical_accuracy: 0.3400\n",
      "\n",
      "Epoch 00009: saving model to model_init_2019-06-2416_28_51.361605/model-00009-0.77377-0.71192-1.99974-0.34000.h5\n",
      "Epoch 10/20\n",
      "23/23 [==============================] - 42s 2s/step - loss: 0.7826 - categorical_accuracy: 0.6884 - val_loss: 2.1207 - val_categorical_accuracy: 0.3400\n",
      "\n",
      "Epoch 00010: saving model to model_init_2019-06-2416_28_51.361605/model-00010-0.79006-0.68929-2.12070-0.34000.h5\n",
      "Epoch 11/20\n",
      "23/23 [==============================] - 42s 2s/step - loss: 0.6498 - categorical_accuracy: 0.7677 - val_loss: 1.5460 - val_categorical_accuracy: 0.5000\n",
      "\n",
      "Epoch 00011: saving model to model_init_2019-06-2416_28_51.361605/model-00011-0.66842-0.75867-1.54599-0.50000.h5\n",
      "Epoch 12/20\n",
      "23/23 [==============================] - 41s 2s/step - loss: 0.5009 - categorical_accuracy: 0.8089 - val_loss: 1.9556 - val_categorical_accuracy: 0.4200\n",
      "\n",
      "Epoch 00012: saving model to model_init_2019-06-2416_28_51.361605/model-00012-0.50130-0.81448-1.95560-0.42000.h5\n",
      "Epoch 13/20\n",
      "23/23 [==============================] - 41s 2s/step - loss: 0.4322 - categorical_accuracy: 0.8693 - val_loss: 1.6695 - val_categorical_accuracy: 0.5100\n",
      "\n",
      "Epoch 00013: saving model to model_init_2019-06-2416_28_51.361605/model-00013-0.44074-0.86425-1.66949-0.51000.h5\n",
      "Epoch 14/20\n",
      "23/23 [==============================] - 41s 2s/step - loss: 0.3920 - categorical_accuracy: 0.8810 - val_loss: 1.3391 - val_categorical_accuracy: 0.5600\n",
      "\n",
      "Epoch 00014: saving model to model_init_2019-06-2416_28_51.361605/model-00014-0.39688-0.87632-1.33905-0.56000.h5\n",
      "Epoch 15/20\n",
      "23/23 [==============================] - 42s 2s/step - loss: 0.3572 - categorical_accuracy: 0.9216 - val_loss: 1.4699 - val_categorical_accuracy: 0.5300\n",
      "\n",
      "Epoch 00015: saving model to model_init_2019-06-2416_28_51.361605/model-00015-0.36016-0.91855-1.46989-0.53000.h5\n",
      "Epoch 16/20\n",
      "23/23 [==============================] - 42s 2s/step - loss: 0.3223 - categorical_accuracy: 0.9135 - val_loss: 1.3608 - val_categorical_accuracy: 0.5700\n",
      "\n",
      "Epoch 00016: saving model to model_init_2019-06-2416_28_51.361605/model-00016-0.31776-0.92308-1.36076-0.57000.h5\n",
      "Epoch 17/20\n",
      "23/23 [==============================] - 42s 2s/step - loss: 0.3474 - categorical_accuracy: 0.9143 - val_loss: 1.4860 - val_categorical_accuracy: 0.5200\n",
      "\n",
      "Epoch 00017: saving model to model_init_2019-06-2416_28_51.361605/model-00017-0.35061-0.91101-1.48603-0.52000.h5\n",
      "Epoch 18/20\n",
      "23/23 [==============================] - 41s 2s/step - loss: 0.3351 - categorical_accuracy: 0.9202 - val_loss: 1.3543 - val_categorical_accuracy: 0.5500\n",
      "\n",
      "Epoch 00018: saving model to model_init_2019-06-2416_28_51.361605/model-00018-0.32662-0.91704-1.35430-0.55000.h5\n",
      "Epoch 19/20\n",
      "23/23 [==============================] - 41s 2s/step - loss: 0.3190 - categorical_accuracy: 0.9245 - val_loss: 1.3356 - val_categorical_accuracy: 0.5400\n",
      "\n",
      "Epoch 00019: saving model to model_init_2019-06-2416_28_51.361605/model-00019-0.31229-0.92157-1.33558-0.54000.h5\n",
      "Epoch 20/20\n",
      "23/23 [==============================] - 41s 2s/step - loss: 0.2824 - categorical_accuracy: 0.9260 - val_loss: 1.4982 - val_categorical_accuracy: 0.5200\n",
      "\n",
      "Epoch 00020: saving model to model_init_2019-06-2416_28_51.361605/model-00020-0.28806-0.92308-1.49824-0.52000.h5\n"
     ]
    }
   ],
   "source": [
    "history=model.fit_generator(train_generator, steps_per_epoch=steps_per_epoch, epochs=num_epochs, verbose=1, \n",
    "                    callbacks=callbacks_list, validation_data=val_generator, \n",
    "                    validation_steps=validation_steps, class_weight=None, workers=1, initial_epoch=0)"
   ]
  },
  {
   "cell_type": "code",
   "execution_count": 77,
   "metadata": {},
   "outputs": [
    {
     "data": {
      "text/plain": [
       "dict_keys(['val_loss', 'val_categorical_accuracy', 'loss', 'categorical_accuracy', 'lr'])"
      ]
     },
     "execution_count": 77,
     "metadata": {},
     "output_type": "execute_result"
    }
   ],
   "source": [
    "history.history.keys()"
   ]
  },
  {
   "cell_type": "code",
   "execution_count": 78,
   "metadata": {},
   "outputs": [
    {
     "name": "stdout",
     "output_type": "stream",
     "text": [
      "dict_keys(['val_loss', 'val_categorical_accuracy', 'loss', 'categorical_accuracy', 'lr'])\n"
     ]
    },
    {
     "data": {
      "image/png": "[encoded data removed]",
      "text/plain": [
       "<Figure size 432x288 with 1 Axes>"
      ]
     },
     "metadata": {},
     "output_type": "display_data"
    },
    {
     "data": {
      "image/png": "[encoded data removed]",
      "text/plain": [
       "<Figure size 432x288 with 1 Axes>"
      ]
     },
     "metadata": {},
     "output_type": "display_data"
    }
   ],
   "source": [
    "\n",
    "\n",
    "### list all data in history\n",
    "print(history.history.keys())\n",
    "# summarize history for accuracy\n",
    "plt.plot(history.history['categorical_accuracy'])\n",
    "plt.plot(history.history['val_categorical_accuracy'])\n",
    "plt.title('model accuracy')\n",
    "plt.ylabel('accuracy')\n",
    "plt.xlabel('epoch')\n",
    "plt.legend(['train', 'val'], loc='upper left')\n",
    "plt.show()\n",
    "# summarize history for loss\n",
    "plt.plot(history.history['loss'])\n",
    "plt.plot(history.history['val_loss'])\n",
    "plt.title('model loss')\n",
    "plt.ylabel('loss')\n",
    "plt.xlabel('epoch')\n",
    "plt.legend(['train', 'val'], loc='upper left')\n",
    "plt.show()"
   ]
  },
  {
   "cell_type": "markdown",
   "metadata": {},
   "source": [
    "#### Best model this approach \n",
    "###### Train Acc- 91.35 Val Acc=57"
   ]
  },
  {
   "cell_type": "code",
   "execution_count": null,
   "metadata": {},
   "outputs": [],
   "source": []
  }
 ],
 "metadata": {
  "kernelspec": {
   "display_name": "Python 3",
   "language": "python",
   "name": "python3"
  },
  "language_info": {
   "codemirror_mode": {
    "name": "ipython",
    "version": 3
   },
   "file_extension": ".py",
   "mimetype": "text/x-python",
   "name": "python",
   "nbconvert_exporter": "python",
   "pygments_lexer": "ipython3",
   "version": "3.6.8"
  }
 },
 "nbformat": 4,
 "nbformat_minor": 2
}
